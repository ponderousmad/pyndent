{
 "cells": [
  {
   "cell_type": "code",
   "execution_count": null,
   "metadata": {
    "collapsed": false
   },
   "outputs": [],
   "source": [
    "%matplotlib inline\n",
    "from __future__ import print_function\n",
    "import os\n",
    "import sys\n",
    "import copy\n",
    "import random\n",
    "import traceback\n",
    "import numpy as np\n",
    "import tensorflow as tf\n",
    "import lxml.etree as et\n",
    "from six.moves import cPickle as pickle\n",
    "\n",
    "import convnet\n",
    "import mutate\n",
    "import convevo\n",
    "import darwin"
   ]
  },
  {
   "cell_type": "code",
   "execution_count": null,
   "metadata": {
    "collapsed": false
   },
   "outputs": [],
   "source": [
    "reload (convnet)\n",
    "reload (mutate)\n",
    "reload (convevo)\n",
    "reload (darwin)"
   ]
  },
  {
   "cell_type": "code",
   "execution_count": null,
   "metadata": {
    "collapsed": false
   },
   "outputs": [],
   "source": [
    "# http://stackoverflow.com/questions/29772158/make-ipython-notebook-print-in-real-time\n",
    "oldsysstdout = sys.stdout\n",
    "class flushfile():\n",
    "    def __init__(self, f):\n",
    "        self.f = f\n",
    "    def __getattr__(self,name): \n",
    "        return object.__getattribute__(self.f, name)\n",
    "    def write(self, x):\n",
    "        self.f.write(x)\n",
    "        self.f.flush()\n",
    "    def flush(self):\n",
    "        self.f.flush()\n",
    "sys.stdout = flushfile(sys.stdout)"
   ]
  },
  {
   "cell_type": "code",
   "execution_count": null,
   "metadata": {
    "collapsed": false
   },
   "outputs": [],
   "source": [
    "evo = darwin.Darwin(range(0, 10), lambda i: str(i), lambda i, e: i, lambda ps, e: ps[0] + e.randint(1,20))\n",
    "results = evo.evaluate(random.Random(42))\n",
    "evo.repopulate(0.1, 2, results, random.Random(42))\n",
    "evo.evaluate(random.Random(42))\n",
    "print(evo.best())"
   ]
  },
  {
   "cell_type": "code",
   "execution_count": null,
   "metadata": {
    "collapsed": false
   },
   "outputs": [],
   "source": [
    "start_a = 0\n",
    "start_b = 100\n",
    "for a in range(0,5):\n",
    "    for b in range(0,5):\n",
    "        for i in range(3):\n",
    "            list_a = range(start_a, start_a + a)\n",
    "            list_b = range(start_b, start_b + b)\n",
    "            cross = mutate.cross_lists(list_a, list_b, random)\n",
    "            print(len(list_a), len(list_b), len(cross), cross)"
   ]
  },
  {
   "cell_type": "code",
   "execution_count": null,
   "metadata": {
    "collapsed": true
   },
   "outputs": [],
   "source": [
    "def accuracy(predictions, labels):\n",
    "    return (100.0 * np.sum(np.argmax(predictions, 1) == np.argmax(labels, 1)) / predictions.shape[0])"
   ]
  },
  {
   "cell_type": "code",
   "execution_count": null,
   "metadata": {
    "collapsed": true
   },
   "outputs": [],
   "source": [
    "def batch_accuracy(session, graph_info, inputs, labels, batch_size):\n",
    "    total_accuracy = 0\n",
    "    batch_count = len(inputs) / batch_size\n",
    "    for b in xrange(batch_count):\n",
    "        batch_data = inputs[b * batch_size: (b + 1) * batch_size]\n",
    "        predictions = session.run([graph_info[\"verify_predictions\"]], feed_dict={graph_info[\"verify\"] : batch_data})[0]\n",
    "        total_accuracy += accuracy(predictions, labels[b * batch_size: (b + 1) * batch_size]) / float(batch_count)\n",
    "    return total_accuracy"
   ]
  },
  {
   "cell_type": "code",
   "execution_count": null,
   "metadata": {
    "collapsed": false
   },
   "outputs": [],
   "source": [
    "def run_graph(graph_info, data, step_count, report_every=50, verbose=True, accuracy_minimum=None):\n",
    "    with tf.Session(graph=graph_info[\"graph\"]) as session:\n",
    "        tf.initialize_all_variables().run()\n",
    "        print(\"Initialized\")\n",
    "        batch_size = graph_info[\"batch_size\"]\n",
    "        valid_accuracy = 0\n",
    "        for step in xrange(step_count + 1):\n",
    "            # Pick an offset within the training data, which has been randomized.\n",
    "            # Note: we could use better randomization across epochs.\n",
    "            offset = (step * batch_size) % (data[\"train_labels\"].shape[0] - batch_size)\n",
    "            # Generate a minibatch.\n",
    "            batch_data = data[\"train\"][offset:(offset + batch_size), :, :, :]\n",
    "            batch_labels = data[\"train_labels\"][offset:(offset + batch_size), :]\n",
    "            # Prepare a dictionary telling the session where to feed the minibatch.\n",
    "            # The key of the dictionary is the placeholder node of the graph to be fed,\n",
    "            # and the value is the numpy array to feed to it.\n",
    "            targets = [graph_info[\"optimizer\"], graph_info[\"loss\"], graph_info[\"predictions\"]]\n",
    "            feed_dict = {graph_info[\"train\"] : batch_data, graph_info[\"labels\"] : batch_labels}\n",
    "            _, l, predictions = session.run(targets, feed_dict=feed_dict)\n",
    "            if np.isnan(l):\n",
    "                print(\"Error computing loss\")\n",
    "                return 0\n",
    "            if (step % report_every == 0):\n",
    "                if verbose:\n",
    "                    print(\"Minibatch loss at step\", step, \":\", l)\n",
    "                    print(\"Minibatch accuracy: %.1f%%\" % accuracy(predictions, batch_labels))\n",
    "                valid_accuracy = batch_accuracy(session, graph_info, data[\"valid\"], data[\"valid_labels\"], batch_size)\n",
    "                print(\"Validation accuracy: %.1f%%\" % valid_accuracy)\n",
    "                if accuracy_minimum and step > 0 and valid_accuracy < accuracy_minimum:\n",
    "                    print(\"Early out.\")\n",
    "                    break\n",
    "        if verbose:\n",
    "            test_accuracy = batch_accuracy(session, graph_info, data[\"test\"], data[\"test_labels\"], batch_size)\n",
    "            print(\"Test accuracy: %.1f%%\" % test_accuracy)\n",
    "        return valid_accuracy"
   ]
  },
  {
   "cell_type": "code",
   "execution_count": null,
   "metadata": {
    "collapsed": false
   },
   "outputs": [],
   "source": [
    "def setup_evo_graph(\n",
    "    batch_size,\n",
    "    data,\n",
    "    evo_stack\n",
    "):\n",
    "    image_size = data[\"image_size\"]\n",
    "    label_count = data[\"label_count\"]\n",
    "    channel_count = data[\"channel_count\"]\n",
    "    graph = tf.Graph()\n",
    "    with graph.as_default():\n",
    "        # Input data.\n",
    "        input_shape = (batch_size, image_size, image_size, channel_count)\n",
    "        output_shape = (batch_size, label_count)\n",
    "        train = tf.placeholder(tf.float32, shape=input_shape)\n",
    "        labels= tf.placeholder(tf.float32, shape=output_shape)\n",
    "        verify= tf.placeholder(tf.float32, shape=input_shape)\n",
    "\n",
    "        layers = evo_stack.construct(input_shape)\n",
    "        l2_loss = 0\n",
    "        \n",
    "        for layer in layers:\n",
    "            layer.setup_parameters()\n",
    "            l2_loss = layer.update_loss(l2_loss)\n",
    "        \n",
    "        def model(nodes, train):\n",
    "            for layer in layers:\n",
    "                nodes.append(layer.connect(nodes[-1], train))\n",
    "            return nodes[-1]\n",
    "\n",
    "        logits = model([train], True)\n",
    "        loss = tf.reduce_mean(tf.nn.softmax_cross_entropy_with_logits(logits, labels)) + l2_loss\n",
    "        \n",
    "        global_step = tf.Variable(0)\n",
    "        optimizer = evo_stack.construct_optimizer(global_step)\n",
    "        \n",
    "        info = {\n",
    "            \"graph\": graph,\n",
    "            \"batch_size\": batch_size,\n",
    "            \"train\": train,\n",
    "            \"labels\": labels,\n",
    "            \"loss\": loss,\n",
    "            \"optimizer\": optimizer.minimize(loss, global_step=global_step),\n",
    "\n",
    "            # Predictions for the training, validation, and test data.\n",
    "            \"predictions\": tf.nn.softmax(logits),\n",
    "            \"verify\": verify,\n",
    "            \"verify_predictions\": tf.nn.softmax(model([verify], False))\n",
    "        }\n",
    "    return info"
   ]
  },
  {
   "cell_type": "code",
   "execution_count": null,
   "metadata": {
    "collapsed": false
   },
   "outputs": [],
   "source": [
    "def create_evo_stack(patch_size, stride, depth, hidden_size, label_count, init_scale, optimizer_name=None):\n",
    "    if optimizer_name:\n",
    "        optimizer = convevo.Optimizer(optimizer_name, 0.05)\n",
    "        optimizer.default_parameters()\n",
    "    else:\n",
    "        optimizer = None\n",
    "    stack = convevo.LayerStack(flatten=True, optimizer=optimizer)\n",
    "    default_init = lambda: convevo.Initializer(\"normal\", scale=init_scale)\n",
    "\n",
    "    stack.add_layer(convevo.ImageLayer(\"conv_bias\", patch_size, stride, depth, \"SAME\", default_init()), relu=True)\n",
    "    stack.add_layer(convevo.ImageLayer(\"conv_bias\", patch_size, stride, depth, \"SAME\", default_init()), relu=True)\n",
    "    stack.add_layer(convevo.HiddenLayer(hidden_size, bias=True, initializer=default_init()), relu=True)\n",
    "    stack.add_layer(convevo.HiddenLayer(label_count, bias=True, initializer=default_init()), relu=False)\n",
    "    \n",
    "    return stack"
   ]
  },
  {
   "cell_type": "code",
   "execution_count": null,
   "metadata": {
    "collapsed": false
   },
   "outputs": [],
   "source": [
    "pickle_file = '../ud730/notMNIST_full.pickle'\n",
    "\n",
    "train_dataset = []\n",
    "train_labels = []\n",
    "test_dataset = []\n",
    "test_labels = []\n",
    "\n",
    "with open(pickle_file, 'rb') as f:\n",
    "  save = pickle.load(f)\n",
    "  train_dataset = save['train_dataset']\n",
    "  train_labels = save['train_labels']\n",
    "  test_dataset = save['test_dataset']\n",
    "  test_labels = save['test_labels']\n",
    "  del save  # hint to help gc free up memory\n",
    "  print('Training set', train_dataset.shape, train_labels.shape)\n",
    "  print('Test set', test_dataset.shape, test_labels.shape)"
   ]
  },
  {
   "cell_type": "code",
   "execution_count": null,
   "metadata": {
    "collapsed": false
   },
   "outputs": [],
   "source": [
    "def setup_data(inputs_train, labels_train, inputs_test, labels_test):\n",
    "    data = {\n",
    "        \"image_size\": 28,\n",
    "        \"label_count\": 10,\n",
    "        \"channel_count\": 1\n",
    "    }\n",
    "    data[\"total_image_size\"] = data[\"image_size\"] * data[\"image_size\"]\n",
    "\n",
    "    def setup_data(inputs, labels, name):\n",
    "        inputs = inputs.reshape((-1, data[\"image_size\"], data[\"image_size\"], data[\"channel_count\"])).astype(np.float32)\n",
    "        # Map 2 to [0.0, 1.0, 0.0 ...], 3 to [0.0, 0.0, 1.0 ...]\n",
    "        labels = (np.arange(data[\"label_count\"]) == labels[:,None]).astype(np.float32)\n",
    "        print(name + \" set\", inputs.shape, labels.shape)\n",
    "        return inputs, labels\n",
    "    data[\"train\"], data[\"train_labels\"] = setup_data(inputs_train, train_labels, \"Training\")\n",
    "    data[\"test\"], data[\"test_labels\"] = setup_data(inputs_test, labels_test, \"Test\")\n",
    "    return data\n",
    "\n",
    "full_data = setup_data(train_dataset, train_labels, test_dataset, test_labels)\n",
    "print(full_data.keys())"
   ]
  },
  {
   "cell_type": "code",
   "execution_count": null,
   "metadata": {
    "collapsed": true
   },
   "outputs": [],
   "source": [
    "del train_dataset\n",
    "del train_labels\n",
    "del test_dataset\n",
    "del test_labels"
   ]
  },
  {
   "cell_type": "code",
   "execution_count": null,
   "metadata": {
    "collapsed": false
   },
   "outputs": [],
   "source": [
    "def setup_validate(data, train_count, validate_count, seed=None):\n",
    "    if seed:\n",
    "        np.random.seed(seed)\n",
    "\n",
    "    def randomize(inputs, labels):\n",
    "        permutation = np.random.permutation(labels.shape[0])\n",
    "        shuffled_inputs = inputs[permutation,:,:,:]\n",
    "        shuffled_labels = labels[permutation,:]\n",
    "        return shuffled_inputs, shuffled_labels\n",
    "\n",
    "    train_inputs = data[\"train\"][:]\n",
    "    train_labels = data[\"train_labels\"][:]\n",
    "    cross_data = copy.copy(data)\n",
    "\n",
    "    train_inputs, train_labels = randomize(train_inputs, train_labels)\n",
    "    cross_data[\"train\"] = train_inputs[:train_count]\n",
    "    cross_data[\"train_labels\"] = train_labels[:train_count]\n",
    "\n",
    "    cross_data[\"valid\"] = train_inputs[train_count:train_count + validate_count]\n",
    "    cross_data[\"valid_labels\"] = train_labels[train_count:train_count + validate_count]\n",
    "    return cross_data\n",
    "cross_data = setup_validate(full_data, 1000, 100)\n",
    "print(cross_data[\"train_labels\"].shape)\n",
    "print(cross_data[\"train_labels\"][0])\n",
    "print(full_data[\"train_labels\"][0])\n",
    "print(cross_data[\"valid\"].shape)\n",
    "del cross_data"
   ]
  },
  {
   "cell_type": "code",
   "execution_count": null,
   "metadata": {
    "collapsed": false
   },
   "outputs": [],
   "source": [
    "def eval_stack(stack, entropy):\n",
    "    stack.reseed(entropy)\n",
    "    \n",
    "    eval_steps = 100000\n",
    "    batch_size = 16\n",
    "    \n",
    "    data = setup_validate(full_data, eval_steps, 5000)\n",
    "    \n",
    "    try:\n",
    "        evo_graph = setup_evo_graph(batch_size, data, stack)\n",
    "    except KeyboardInterrupt:\n",
    "        raise\n",
    "    except:\n",
    "        exc_type, exc_value, exc_traceback = sys.exc_info()\n",
    "        lines = traceback.format_exception(exc_type, exc_value, exc_traceback)\n",
    "        print(lines[-1])\n",
    "        convevo.output_error(stack, lines, \"temp\")\n",
    "        return -10\n",
    "        \n",
    "    try:\n",
    "        return run_graph(evo_graph, data, eval_steps, report_every=eval_steps/4, verbose=False, accuracy_minimum=50)\n",
    "    except KeyboardInterrupt:\n",
    "        raise\n",
    "    except:\n",
    "        exc_type, exc_value, exc_traceback = sys.exc_info()\n",
    "        lines = traceback.format_exception(exc_type, exc_value, exc_traceback)\n",
    "        print(lines[-1])\n",
    "        convevo.output_error(stack, lines, \"temp\")\n",
    "        return -1"
   ]
  },
  {
   "cell_type": "code",
   "execution_count": null,
   "metadata": {
    "collapsed": false
   },
   "outputs": [],
   "source": [
    "def test_optimizers():\n",
    "    for optimizer_name in [\"GradientDescent\", \"Adadelta\", \"Adagrad\", \"Momentum\", \"Adam\", \"RMSProp\"]:\n",
    "        # As of this writing \"Ftrl\" is not supported on the GPU\n",
    "        batch_size = 16\n",
    "        eval_steps = 10000\n",
    "        test_stack = create_evo_stack(5, 2, 64, 128, 10, 0.1, optimizer_name)\n",
    "        test_data = setup_validate(full_data, eval_steps * batch_size, 500)\n",
    "        test_graph = setup_evo_graph(batch_size, data, test_stack)\n",
    "        print (run_graph(test_graph, data, eval_steps, report_every=eval_steps/4, verbose=False))\n",
    "test_optimizers()"
   ]
  },
  {
   "cell_type": "code",
   "execution_count": null,
   "metadata": {
    "collapsed": false
   },
   "outputs": [],
   "source": [
    "test_stack = create_evo_stack(5, 2, 64, 128, 10, 0.1)\n",
    "print(convevo.serialize(test_stack))\n",
    "eval_stack(test_stack, random.Random(42))"
   ]
  },
  {
   "cell_type": "code",
   "execution_count": null,
   "metadata": {
    "collapsed": false
   },
   "outputs": [],
   "source": [
    "mutate_entropy = random.Random(42)\n",
    "scored_mutants = []\n",
    "for mutant in convevo.init_population([create_evo_stack(5, 2, 64, 128, 10, 0.1)], 20, mutate_entropy):\n",
    "    scored_mutants.append((mutant, 0.0))\n",
    "    \n",
    "convevo.output_results(scored_mutants, \"temp\", \"mutants.xml\", 0, 0)"
   ]
  },
  {
   "cell_type": "code",
   "execution_count": null,
   "metadata": {
    "collapsed": false
   },
   "outputs": [],
   "source": [
    "mutate_entropy = random.Random(42)\n",
    "mutant_children = []\n",
    "for _ in range(20):\n",
    "    mutant_a = mutate_entropy.choice(scored_mutants)[0]\n",
    "    mutant_b = mutate_entropy.choice(scored_mutants)[0]\n",
    "    mutant_children.append((convevo.breed([mutant_a, mutant_b], mutate_entropy), 0.0))\n",
    "    \n",
    "convevo.output_results(mutant_children, \"temp\", \"mutant_offspring\", 42, 0)"
   ]
  },
  {
   "cell_type": "code",
   "execution_count": null,
   "metadata": {
    "collapsed": false,
    "scrolled": false
   },
   "outputs": [],
   "source": [
    "mutate_seed = random.randint(1, 100000)\n",
    "print(\"Mutate Seed:\", mutate_seed)\n",
    "mutate_entropy = random.Random(mutate_seed)\n",
    "eval_seed = random.randint(1, 100000)\n",
    "print(\"Eval Seed:\", eval_seed)\n",
    "eval_entropy = random.Random(eval_seed)\n",
    "\n",
    "population_size = 20\n",
    "generations = 10\n",
    "prototype_stack = create_evo_stack(5, 2, 64, 128, 10, 0.1)\n",
    "\n",
    "conv_population = convevo.init_population([prototype_stack], population_size, mutate_entropy)\n",
    "conv_darwin = darwin.Darwin(conv_population, convevo.serialize, eval_stack, convevo.breed)\n",
    "\n",
    "for g in range(generations):\n",
    "    print(\"Generation\", g)\n",
    "    results = conv_darwin.evaluate(eval_entropy)\n",
    "    convevo.output_results(results, \"temp\")\n",
    "    conv_darwin.repopulate(0.25, 4, results, mutate_entropy)"
   ]
  },
  {
   "cell_type": "code",
   "execution_count": null,
   "metadata": {
    "collapsed": false
   },
   "outputs": [],
   "source": [
    "failed = 1\n",
    "print (convevo.serialize(conv_darwin.population[failed]))\n",
    "eval_stack(conv_darwin.population[failed], eval_entropy)"
   ]
  },
  {
   "cell_type": "code",
   "execution_count": null,
   "metadata": {
    "collapsed": false
   },
   "outputs": [],
   "source": [
    "best = conv_darwin.best()\n",
    "print(\"Best score:\", best[1])\n",
    "print(convevo.serialize(best[0]))"
   ]
  },
  {
   "cell_type": "code",
   "execution_count": null,
   "metadata": {
    "collapsed": false
   },
   "outputs": [],
   "source": [
    "results = darwin.descending_score(conv_darwin.history.values())\n",
    "convevo.output_results(results, \"testing\", \"new_run.xml\", mutate_seed, eval_seed)\n",
    "len(results)"
   ]
  },
  {
   "cell_type": "code",
   "execution_count": null,
   "metadata": {
    "collapsed": false
   },
   "outputs": [],
   "source": [
    "second_population,m_seed,e_seed = convevo.load_population(\"testing/second_run.xml\")\n",
    "len(second_population)"
   ]
  },
  {
   "cell_type": "code",
   "execution_count": null,
   "metadata": {
    "collapsed": false
   },
   "outputs": [],
   "source": [
    "mutate_seed = random.randint(1, 100000)\n",
    "print(\"Mutate Seed:\", mutate_seed)\n",
    "mutate_entropy = random.Random(mutate_seed)\n",
    "eval_seed = random.randint(1, 100000)\n",
    "print(\"Eval Seed:\", eval_seed)\n",
    "eval_entropy = random.Random(eval_seed)\n",
    "\n",
    "population_size = 20\n",
    "generations = 20\n",
    "\n",
    "conv_population = convevo.init_population(second_population[:5], population_size, mutate_entropy)\n",
    "conv_darwin = darwin.Darwin(conv_population, convevo.serialize, eval_stack, convevo.breed)\n",
    "\n",
    "for g in range(generations):\n",
    "    print(\"Generation\", g)\n",
    "    results = conv_darwin.evaluate(eval_entropy)\n",
    "    convevo.output_results(results, \"temp\")\n",
    "    conv_darwin.repopulate(0.25, 4, results, mutate_entropy)"
   ]
  },
  {
   "cell_type": "code",
   "execution_count": null,
   "metadata": {
    "collapsed": false
   },
   "outputs": [],
   "source": [
    "results = darwin.descending_score(conv_darwin.history.values())\n",
    "convevo.output_results(results, \"testing\", \"fifth_run.xml\", mutate_seed, eval_seed)\n",
    "len(results)"
   ]
  },
  {
   "cell_type": "code",
   "execution_count": null,
   "metadata": {
    "collapsed": false,
    "scrolled": false
   },
   "outputs": [],
   "source": [
    "l2_population,_,eval_seed = convevo.load_population(\"testing/l2_test.xml\")\n",
    "print(len(l2_population))\n",
    "\n",
    "l2_darwin = darwin.Darwin(l2_population, convevo.serialize, eval_stack, convevo.breed)\n",
    "l2_results = l2_darwin.evaluate(random.Random(eval_seed))"
   ]
  },
  {
   "cell_type": "code",
   "execution_count": null,
   "metadata": {
    "collapsed": false
   },
   "outputs": [],
   "source": [
    "errors = []\n",
    "\n",
    "for root, dirs, files in os.walk('temp'):\n",
    "    for name in files:\n",
    "        path = os.path.join(root, name)\n",
    "        low_name = name.lower()\n",
    "        if low_name.startswith(\"err\"):\n",
    "            with open (path, \"r\") as error_file:\n",
    "                lines=error_file.readlines()\n",
    "                errors.append((path, lines[-1]))\n",
    "\n",
    "for path, error in sorted(errors, key=lambda e: e[0]):\n",
    "    print(path)\n",
    "    print(error)"
   ]
  },
  {
   "cell_type": "code",
   "execution_count": null,
   "metadata": {
    "collapsed": false,
    "scrolled": false
   },
   "outputs": [],
   "source": [
    "error_population,_,eval_seed = convevo.load_population(\"testing/error.xml\")\n",
    "print(len(error_population))\n",
    "\n",
    "error_darwin = darwin.Darwin(error_population, convevo.serialize, eval_stack, convevo.breed)\n",
    "error_results = error_darwin.evaluate(random.Random(eval_seed))"
   ]
  },
  {
   "cell_type": "code",
   "execution_count": null,
   "metadata": {
    "collapsed": true
   },
   "outputs": [],
   "source": []
  }
 ],
 "metadata": {
  "kernelspec": {
   "display_name": "Python 2",
   "language": "python",
   "name": "python2"
  },
  "language_info": {
   "codemirror_mode": {
    "name": "ipython",
    "version": 2
   },
   "file_extension": ".py",
   "mimetype": "text/x-python",
   "name": "python",
   "nbconvert_exporter": "python",
   "pygments_lexer": "ipython2",
   "version": "2.7.11"
  }
 },
 "nbformat": 4,
 "nbformat_minor": 0
}
