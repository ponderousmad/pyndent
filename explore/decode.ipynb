{
 "cells": [
  {
   "cell_type": "code",
   "execution_count": null,
   "metadata": {
    "collapsed": false
   },
   "outputs": [],
   "source": [
    "import os\n",
    "import Image\n",
    "import numpy\n",
    "from IPython.display import Image as DisplayImage"
   ]
  },
  {
   "cell_type": "code",
   "execution_count": null,
   "metadata": {
    "collapsed": false
   },
   "outputs": [],
   "source": [
    "test_path = \"../captures/testing/IMG_0793.PNG\"\n",
    "DisplayImage(filename=test_path)"
   ]
  },
  {
   "cell_type": "code",
   "execution_count": null,
   "metadata": {
    "collapsed": false
   },
   "outputs": [],
   "source": [
    "combinedImage = Image.open(test_path)\n",
    "combinedImage.size"
   ]
  },
  {
   "cell_type": "code",
   "execution_count": null,
   "metadata": {
    "collapsed": false
   },
   "outputs": [],
   "source": [
    "def split(image):\n",
    "    splitHeight = image.size[1] / 2\n",
    "    return image.crop((0, 0, image.size[0], splitHeight)), image.crop((0, splitHeight + 1, image.size[0], image.size[1]))\n",
    "cameraImage, depthImage = split(combinedImage)"
   ]
  },
  {
   "cell_type": "code",
   "execution_count": null,
   "metadata": {
    "collapsed": false
   },
   "outputs": [],
   "source": [
    "def convertToDepth(image):\n",
    "    depths = numpy.zeros(image.size)\n",
    "    pixels = image.load()\n",
    "    MAX_RED_VALUE = 247\n",
    "    CHANNEL_MAX = 8\n",
    "    CHANNELS_MAX = CHANNEL_MAX * CHANNEL_MAX\n",
    "    INVALID = float('Nan')\n",
    "    for y in range(0, image.size[1]):\n",
    "        for x in range(0, image.size[0]):\n",
    "            pixel = pixels[x, y]\n",
    "            red = pixel[0]\n",
    "            if red == 0:\n",
    "                depths[x, y] = INVALID\n",
    "                continue\n",
    "            depths[x, y] = (MAX_RED_VALUE - red) * CHANNELS_MAX + ((pixel[1] - red) * CHANNEL_MAX) + (pixel[2] - red)\n",
    "    return depths\n",
    "depths = convertToDepth(depthImage)"
   ]
  },
  {
   "cell_type": "code",
   "execution_count": null,
   "metadata": {
    "collapsed": false
   },
   "outputs": [],
   "source": [
    "depths"
   ]
  }
 ],
 "metadata": {
  "kernelspec": {
   "display_name": "Python 2",
   "language": "python",
   "name": "python2"
  },
  "language_info": {
   "codemirror_mode": {
    "name": "ipython",
    "version": 2
   },
   "file_extension": ".py",
   "mimetype": "text/x-python",
   "name": "python",
   "nbconvert_exporter": "python",
   "pygments_lexer": "ipython2",
   "version": "2.7.9"
  }
 },
 "nbformat": 4,
 "nbformat_minor": 0
}
