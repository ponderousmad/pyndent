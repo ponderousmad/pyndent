{
 "cells": [
  {
   "cell_type": "code",
   "execution_count": null,
   "metadata": {
    "collapsed": false
   },
   "outputs": [],
   "source": [
    "import os\n",
    "import Image\n",
    "import numpy\n",
    "from IPython.display import Image as DisplayImage"
   ]
  },
  {
   "cell_type": "code",
   "execution_count": null,
   "metadata": {
    "collapsed": false
   },
   "outputs": [],
   "source": [
    "test_path = \"../captures/testing/IMG_2114.PNG\"\n",
    "DisplayImage(filename=test_path)"
   ]
  },
  {
   "cell_type": "code",
   "execution_count": null,
   "metadata": {
    "collapsed": false
   },
   "outputs": [],
   "source": [
    "combinedImage = Image.open(test_path)\n",
    "combinedImage.size"
   ]
  },
  {
   "cell_type": "code",
   "execution_count": null,
   "metadata": {
    "collapsed": false
   },
   "outputs": [],
   "source": [
    "def split(image):\n",
    "    splitHeight = (image.size[1] / 2) - 1\n",
    "    return image.crop((0, 0, image.size[0], splitHeight)), image.crop((0, splitHeight + 1, image.size[0], image.size[1]))\n",
    "cameraImage, depthImage = split(combinedImage)"
   ]
  },
  {
   "cell_type": "code",
   "execution_count": null,
   "metadata": {
    "collapsed": false
   },
   "outputs": [],
   "source": [
    "def convertToDepth(image):\n",
    "    depths = numpy.zeros(image.size)\n",
    "    pixels = image.load()\n",
    "    BYTE_MAX = 255\n",
    "    CHANNEL_MAX = 8\n",
    "    MAX_RED_VALUE = BYTE_MAX - CHANNEL_MAX\n",
    "    CHANNELS_MAX = CHANNEL_MAX * CHANNEL_MAX\n",
    "    INVALID = float('Nan')\n",
    "    found_orientation = False\n",
    "    orientation = [1, 0, 0, 0]\n",
    "    for y in range(0, image.size[1]):\n",
    "        for x in range(0, image.size[0]):\n",
    "            pixel = pixels[x, y]\n",
    "            red = pixel[0]\n",
    "            if x == 0 and y == 0 and red == BYTE_MAX:\n",
    "                found_orientation = True\n",
    "                depths[x, y] = INVALID\n",
    "                continue\n",
    "            if found_orientation:\n",
    "                for c in range(0, len(orientation)):\n",
    "                    orientation[c] = ((2.0 * pixel[c]) / BYTE_MAX) - 1\n",
    "                found_orientation = False\n",
    "                depths[x, y] = INVALID\n",
    "                continue\n",
    "            if red == 0:\n",
    "                depths[x, y] = INVALID\n",
    "                continue\n",
    "            depths[x, y] = (MAX_RED_VALUE - red) * CHANNELS_MAX + ((pixel[1] - red) * CHANNEL_MAX) + (pixel[2] - red)\n",
    "    return depths, orientation\n",
    "depths, attitude = convertToDepth(depthImage)"
   ]
  },
  {
   "cell_type": "code",
   "execution_count": null,
   "metadata": {
    "collapsed": false
   },
   "outputs": [],
   "source": [
    "depths.T"
   ]
  },
  {
   "cell_type": "code",
   "execution_count": null,
   "metadata": {
    "collapsed": false
   },
   "outputs": [],
   "source": [
    "attitude"
   ]
  },
  {
   "cell_type": "code",
   "execution_count": null,
   "metadata": {
    "collapsed": true
   },
   "outputs": [],
   "source": []
  }
 ],
 "metadata": {
  "kernelspec": {
   "display_name": "Python 2",
   "language": "python",
   "name": "python2"
  },
  "language_info": {
   "codemirror_mode": {
    "name": "ipython",
    "version": 2
   },
   "file_extension": ".py",
   "mimetype": "text/x-python",
   "name": "python",
   "nbconvert_exporter": "python",
   "pygments_lexer": "ipython2",
   "version": "2.7.9"
  }
 },
 "nbformat": 4,
 "nbformat_minor": 0
}
