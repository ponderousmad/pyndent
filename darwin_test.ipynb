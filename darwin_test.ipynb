{
 "cells": [
  {
   "cell_type": "code",
   "execution_count": null,
   "metadata": {
    "collapsed": false
   },
   "outputs": [],
   "source": [
    "%matplotlib inline\n",
    "from __future__ import print_function\n",
    "import random\n",
    "import sys\n",
    "\n",
    "import outputer\n",
    "import mutate\n",
    "import darwin"
   ]
  },
  {
   "cell_type": "code",
   "execution_count": null,
   "metadata": {
    "collapsed": false
   },
   "outputs": [],
   "source": [
    "reload (mutate)\n",
    "reload (darwin)"
   ]
  },
  {
   "cell_type": "code",
   "execution_count": null,
   "metadata": {
    "collapsed": false
   },
   "outputs": [],
   "source": [
    "# Test cross lists: take some of the start of the first list and append to some of the end of the second.\n",
    "start_a = 0\n",
    "start_b = 100\n",
    "for a in range(0,5):\n",
    "    for b in range(0,5):\n",
    "        for i in range(3):\n",
    "            list_a = range(start_a, start_a + a)\n",
    "            list_b = range(start_b, start_b + b)\n",
    "            cross = mutate.cross_lists(list_a, list_b, random)\n",
    "            print(len(list_a), len(list_b), len(cross), cross)"
   ]
  },
  {
   "cell_type": "code",
   "execution_count": null,
   "metadata": {
    "collapsed": false
   },
   "outputs": [],
   "source": [
    "# Test Fisher-Yates shuffle: permute in place:\n",
    "for i in xrange(5):\n",
    "    items = range(10)\n",
    "    mutate.fisher_yates_shuffle(items, random.Random(i))\n",
    "    print (len(items), items)"
   ]
  },
  {
   "cell_type": "code",
   "execution_count": null,
   "metadata": {
    "collapsed": true
   },
   "outputs": [],
   "source": [
    "def serialize(integer):\n",
    "    return str(integer)\n",
    "\n",
    "def evaluate(integer, entropy):\n",
    "    return integer\n",
    "\n",
    "def breed(parents, options, entropy):\n",
    "    return parents[0] + entropy.randint(1, 20)\n",
    "\n",
    "charles = darwin.Darwin(serialize, evaluate, breed)"
   ]
  },
  {
   "cell_type": "code",
   "execution_count": null,
   "metadata": {
    "collapsed": false
   },
   "outputs": [],
   "source": [
    "entropy = random.Random(42)\n",
    "\n",
    "population_size = 10\n",
    "prototypes = range(0, population_size)\n",
    "charles.init_population(prototypes, population_size, True, {}, entropy)"
   ]
  },
  {
   "cell_type": "code",
   "execution_count": null,
   "metadata": {
    "collapsed": false
   },
   "outputs": [],
   "source": [
    "results = charles.evaluate(entropy)"
   ]
  },
  {
   "cell_type": "code",
   "execution_count": null,
   "metadata": {
    "collapsed": false
   },
   "outputs": [],
   "source": [
    "charles.repopulate(population_size, 0.1, 2, results, {}, entropy)"
   ]
  },
  {
   "cell_type": "code",
   "execution_count": null,
   "metadata": {
    "collapsed": false
   },
   "outputs": [],
   "source": [
    "results = charles.evaluate(entropy)\n",
    "\n",
    "print(\"Best result:\", charles.best())"
   ]
  },
  {
   "cell_type": "code",
   "execution_count": null,
   "metadata": {
    "collapsed": false
   },
   "outputs": [],
   "source": [
    "generations = 5\n",
    "for g in xrange(generations):\n",
    "    print(\"Generation\", g)\n",
    "    charles.repopulate(population_size, 0.1, 2, results, {}, random.Random(42))\n",
    "    results = charles.evaluate(entropy)\n",
    "\n",
    "print(\"Best result:\", charles.best())"
   ]
  },
  {
   "cell_type": "code",
   "execution_count": null,
   "metadata": {
    "collapsed": true
   },
   "outputs": [],
   "source": []
  }
 ],
 "metadata": {
  "kernelspec": {
   "display_name": "Python 2",
   "language": "python",
   "name": "python2"
  },
  "language_info": {
   "codemirror_mode": {
    "name": "ipython",
    "version": 2
   },
   "file_extension": ".py",
   "mimetype": "text/x-python",
   "name": "python",
   "nbconvert_exporter": "python",
   "pygments_lexer": "ipython2",
   "version": "2.7.11"
  }
 },
 "nbformat": 4,
 "nbformat_minor": 0
}
