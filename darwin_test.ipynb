{
 "cells": [
  {
   "cell_type": "markdown",
   "metadata": {},
   "source": [
    "Test and Demonstrate darwin Evolution Module\n",
    "============================================\n",
    "This notebook tests and demos the darwin module that implements an evolutionary system."
   ]
  },
  {
   "cell_type": "code",
   "execution_count": 1,
   "metadata": {
    "collapsed": false
   },
   "outputs": [],
   "source": [
    "%matplotlib inline\n",
    "from __future__ import print_function\n",
    "import random\n",
    "import sys\n",
    "\n",
    "import outputer\n",
    "import mutate\n",
    "import darwin"
   ]
  },
  {
   "cell_type": "markdown",
   "metadata": {},
   "source": [
    "# Test mutate module functions"
   ]
  },
  {
   "cell_type": "code",
   "execution_count": 2,
   "metadata": {
    "collapsed": false
   },
   "outputs": [
    {
     "name": "stdout",
     "output_type": "stream",
     "text": [
      "0 0 0 []\n",
      "0 0 0 []\n",
      "0 0 0 []\n",
      "0 1 1 [100]\n",
      "0 1 1 [100]\n",
      "0 1 1 [100]\n",
      "0 2 2 [100, 101]\n",
      "0 2 2 [100, 101]\n",
      "0 2 2 [100, 101]\n",
      "0 3 3 [100, 101, 102]\n",
      "0 3 3 [100, 101, 102]\n",
      "0 3 3 [100, 101, 102]\n",
      "0 4 4 [100, 101, 102, 103]\n",
      "0 4 4 [100, 101, 102, 103]\n",
      "0 4 4 [100, 101, 102, 103]\n",
      "1 0 1 [0]\n",
      "1 0 1 [0]\n",
      "1 0 1 [0]\n",
      "1 1 1 [0]\n",
      "1 1 1 [0]\n",
      "1 1 1 [0]\n",
      "1 2 1 [0]\n",
      "1 2 1 [0]\n",
      "1 2 1 [0]\n",
      "1 3 1 [0]\n",
      "1 3 1 [0]\n",
      "1 3 1 [0]\n",
      "1 4 1 [0]\n",
      "1 4 1 [0]\n",
      "1 4 1 [0]\n",
      "2 0 2 [0, 1]\n",
      "2 0 2 [0, 1]\n",
      "2 0 2 [0, 1]\n",
      "2 1 2 [100, 1]\n",
      "2 1 2 [0, 1]\n",
      "2 1 2 [0, 1]\n",
      "2 2 2 [100, 1]\n",
      "2 2 2 [100, 1]\n",
      "2 2 2 [100, 1]\n",
      "2 3 2 [100, 1]\n",
      "2 3 2 [0, 1]\n",
      "2 3 2 [0, 1]\n",
      "2 4 2 [100, 1]\n",
      "2 4 2 [0, 1]\n",
      "2 4 2 [0, 1]\n",
      "3 0 3 [0, 1, 2]\n",
      "3 0 3 [0, 1, 2]\n",
      "3 0 3 [0, 1, 2]\n",
      "3 1 3 [100, 1, 2]\n",
      "3 1 3 [100, 1, 2]\n",
      "3 1 3 [100, 1, 2]\n",
      "3 2 3 [100, 1, 2]\n",
      "3 2 3 [100, 101, 2]\n",
      "3 2 3 [0, 1, 2]\n",
      "3 3 3 [0, 1, 2]\n",
      "3 3 3 [0, 1, 2]\n",
      "3 3 3 [100, 101, 2]\n",
      "3 4 3 [100, 1, 2]\n",
      "3 4 3 [100, 1, 2]\n",
      "3 4 3 [100, 101, 2]\n",
      "4 0 4 [0, 1, 2, 3]\n",
      "4 0 4 [0, 1, 2, 3]\n",
      "4 0 4 [0, 1, 2, 3]\n",
      "4 1 2 [100, 3]\n",
      "4 1 3 [100, 2, 3]\n",
      "4 1 4 [0, 1, 2, 3]\n",
      "4 2 3 [100, 101, 3]\n",
      "4 2 4 [100, 1, 2, 3]\n",
      "4 2 3 [100, 101, 3]\n",
      "4 3 4 [0, 1, 2, 3]\n",
      "4 3 4 [100, 1, 2, 3]\n",
      "4 3 4 [100, 101, 2, 3]\n",
      "4 4 4 [100, 101, 102, 3]\n",
      "4 4 4 [100, 101, 102, 3]\n",
      "4 4 4 [100, 101, 102, 3]\n"
     ]
    }
   ],
   "source": [
    "# Test cross lists: take some of the start of the first list\n",
    "# and append to some of the end of the second.\n",
    "start_a = 0\n",
    "start_b = 100\n",
    "for a in range(0,5):\n",
    "    for b in range(0,5):\n",
    "        for i in range(3):\n",
    "            list_a = range(start_a, start_a + a)\n",
    "            list_b = range(start_b, start_b + b)\n",
    "            cross = mutate.cross_lists(list_a, list_b, random)\n",
    "            print(len(list_a), len(list_b), len(cross), cross)"
   ]
  },
  {
   "cell_type": "code",
   "execution_count": 3,
   "metadata": {
    "collapsed": false
   },
   "outputs": [
    {
     "name": "stdout",
     "output_type": "stream",
     "text": [
      "10 [9, 4, 0, 5, 2, 7, 1, 3, 6, 8]\n",
      "10 [8, 0, 3, 4, 5, 2, 9, 6, 7, 1]\n",
      "10 [4, 1, 6, 2, 3, 5, 7, 0, 8, 9]\n",
      "10 [1, 5, 7, 6, 0, 3, 8, 9, 4, 2]\n",
      "10 [5, 6, 4, 7, 9, 8, 1, 3, 0, 2]\n"
     ]
    }
   ],
   "source": [
    "# Test Fisher-Yates shuffle: permute in place:\n",
    "for i in xrange(5):\n",
    "    items = range(10)\n",
    "    mutate.fisher_yates_shuffle(items, random.Random(i))\n",
    "    print (len(items), items)"
   ]
  },
  {
   "cell_type": "markdown",
   "metadata": {},
   "source": [
    "# Set up a simple evolutionary system"
   ]
  },
  {
   "cell_type": "code",
   "execution_count": 4,
   "metadata": {
    "collapsed": true
   },
   "outputs": [],
   "source": [
    "def serialize(integer):\n",
    "    return str(integer)\n",
    "\n",
    "def evaluate(integer, entropy):\n",
    "    return integer\n",
    "\n",
    "def breed(parents, options, entropy):\n",
    "    return parents[0] + entropy.randint(1, 20)\n",
    "\n",
    "charles = darwin.Darwin(serialize, evaluate, breed)"
   ]
  },
  {
   "cell_type": "markdown",
   "metadata": {},
   "source": [
    "# Initialize a population (of integers)"
   ]
  },
  {
   "cell_type": "code",
   "execution_count": 5,
   "metadata": {
    "collapsed": false
   },
   "outputs": [
    {
     "data": {
      "text/plain": [
       "[0, 1, 2, 3, 4, 5, 6, 7, 8, 9]"
      ]
     },
     "execution_count": 5,
     "metadata": {},
     "output_type": "execute_result"
    }
   ],
   "source": [
    "entropy = random.Random(42)\n",
    "\n",
    "population_size = 10\n",
    "prototypes = range(0, population_size)\n",
    "charles.init_population(prototypes, population_size, True, {}, entropy)"
   ]
  },
  {
   "cell_type": "markdown",
   "metadata": {},
   "source": [
    "# Evaluate the population"
   ]
  },
  {
   "cell_type": "code",
   "execution_count": 6,
   "metadata": {
    "collapsed": false
   },
   "outputs": [
    {
     "name": "stdout",
     "output_type": "stream",
     "text": [
      "Evaluating 0\n",
      "Score: 0\n",
      "Evaluating 1\n",
      "Score: 1\n",
      "Evaluating 2\n",
      "Score: 2\n",
      "Evaluating 3\n",
      "Score: 3\n",
      "Evaluating 4\n",
      "Score: 4\n",
      "Evaluating 5\n",
      "Score: 5\n",
      "Evaluating 6\n",
      "Score: 6\n",
      "Evaluating 7\n",
      "Score: 7\n",
      "Evaluating 8\n",
      "Score: 8\n",
      "Evaluating 9\n",
      "Score: 9\n"
     ]
    }
   ],
   "source": [
    "results = charles.evaluate(entropy)"
   ]
  },
  {
   "cell_type": "markdown",
   "metadata": {},
   "source": [
    "# Select the best results and breed/mutate them"
   ]
  },
  {
   "cell_type": "code",
   "execution_count": 7,
   "metadata": {
    "collapsed": false
   },
   "outputs": [
    {
     "data": {
      "text/plain": [
       "[15, 23, 18, 20, 22, 21, 26, 13, 11, 22]"
      ]
     },
     "execution_count": 7,
     "metadata": {},
     "output_type": "execute_result"
    }
   ],
   "source": [
    "charles.repopulate(population_size, 0.1, 2, results, {}, entropy)"
   ]
  },
  {
   "cell_type": "markdown",
   "metadata": {},
   "source": [
    "# Evaluate the next generation"
   ]
  },
  {
   "cell_type": "code",
   "execution_count": 8,
   "metadata": {
    "collapsed": false
   },
   "outputs": [
    {
     "name": "stdout",
     "output_type": "stream",
     "text": [
      "Evaluating 0\n",
      "Score: 15\n",
      "Evaluating 1\n",
      "Score: 23\n",
      "Evaluating 2\n",
      "Score: 18\n",
      "Evaluating 3\n",
      "Score: 20\n",
      "Evaluating 4\n",
      "Score: 22\n",
      "Evaluating 5\n",
      "Score: 21\n",
      "Evaluating 6\n",
      "Score: 26\n",
      "Evaluating 7\n",
      "Score: 13\n",
      "Evaluating 8\n",
      "Score: 11\n",
      "Evaluating 9\n",
      "Score: 22\n",
      "Best result: (26, 26)\n"
     ]
    }
   ],
   "source": [
    "results = charles.evaluate(entropy)\n",
    "\n",
    "print(\"Best result:\", charles.best())"
   ]
  },
  {
   "cell_type": "markdown",
   "metadata": {},
   "source": [
    "# Repeat for 5 more generations"
   ]
  },
  {
   "cell_type": "code",
   "execution_count": 9,
   "metadata": {
    "collapsed": false
   },
   "outputs": [
    {
     "name": "stdout",
     "output_type": "stream",
     "text": [
      "Generation 0\n",
      "Evaluating 0\n",
      "Score: 32\n",
      "Evaluating 1\n",
      "Score: 40\n",
      "Evaluating 2\n",
      "Score: 35\n",
      "Evaluating 3\n",
      "Score: 37\n",
      "Evaluating 4\n",
      "Score: 39\n",
      "Evaluating 5\n",
      "Score: 38\n",
      "Evaluating 6\n",
      "Score: 43\n",
      "Evaluating 7\n",
      "Score: 30\n",
      "Evaluating 8\n",
      "Score: 28\n",
      "Evaluating 9\n",
      "Score: 39\n",
      "Generation 1\n",
      "Evaluating 0\n",
      "Score: 49\n",
      "Evaluating 1\n",
      "Score: 57\n",
      "Evaluating 2\n",
      "Score: 52\n",
      "Evaluating 3\n",
      "Score: 54\n",
      "Evaluating 4\n",
      "Score: 56\n",
      "Evaluating 5\n",
      "Score: 55\n",
      "Evaluating 6\n",
      "Score: 60\n",
      "Evaluating 7\n",
      "Score: 47\n",
      "Evaluating 8\n",
      "Score: 45\n",
      "Evaluating 9\n",
      "Score: 56\n",
      "Generation 2\n",
      "Evaluating 0\n",
      "Score: 66\n",
      "Evaluating 1\n",
      "Score: 74\n",
      "Evaluating 2\n",
      "Score: 69\n",
      "Evaluating 3\n",
      "Score: 71\n",
      "Evaluating 4\n",
      "Score: 73\n",
      "Evaluating 5\n",
      "Score: 72\n",
      "Evaluating 6\n",
      "Score: 77\n",
      "Evaluating 7\n",
      "Score: 64\n",
      "Evaluating 8\n",
      "Score: 62\n",
      "Evaluating 9\n",
      "Score: 73\n",
      "Generation 3\n",
      "Evaluating 0\n",
      "Score: 83\n",
      "Evaluating 1\n",
      "Score: 91\n",
      "Evaluating 2\n",
      "Score: 86\n",
      "Evaluating 3\n",
      "Score: 88\n",
      "Evaluating 4\n",
      "Score: 90\n",
      "Evaluating 5\n",
      "Score: 89\n",
      "Evaluating 6\n",
      "Score: 94\n",
      "Evaluating 7\n",
      "Score: 81\n",
      "Evaluating 8\n",
      "Score: 79\n",
      "Evaluating 9\n",
      "Score: 90\n",
      "Generation 4\n",
      "Evaluating 0\n",
      "Score: 100\n",
      "Evaluating 1\n",
      "Score: 108\n",
      "Evaluating 2\n",
      "Score: 103\n",
      "Evaluating 3\n",
      "Score: 105\n",
      "Evaluating 4\n",
      "Score: 107\n",
      "Evaluating 5\n",
      "Score: 106\n",
      "Evaluating 6\n",
      "Score: 111\n",
      "Evaluating 7\n",
      "Score: 98\n",
      "Evaluating 8\n",
      "Score: 96\n",
      "Evaluating 9\n",
      "Score: 107\n",
      "Best result: (111, 111)\n"
     ]
    }
   ],
   "source": [
    "generations = 5\n",
    "for g in xrange(generations):\n",
    "    print(\"Generation\", g)\n",
    "    charles.repopulate(population_size, 0.1, 2, results, {}, random.Random(42))\n",
    "    results = charles.evaluate(entropy)\n",
    "\n",
    "print(\"Best result:\", charles.best())"
   ]
  },
  {
   "cell_type": "code",
   "execution_count": null,
   "metadata": {
    "collapsed": true
   },
   "outputs": [],
   "source": []
  }
 ],
 "metadata": {
  "kernelspec": {
   "display_name": "Python 2",
   "language": "python",
   "name": "python2"
  },
  "language_info": {
   "codemirror_mode": {
    "name": "ipython",
    "version": 2
   },
   "file_extension": ".py",
   "mimetype": "text/x-python",
   "name": "python",
   "nbconvert_exporter": "python",
   "pygments_lexer": "ipython2",
   "version": "2.7.11"
  }
 },
 "nbformat": 4,
 "nbformat_minor": 0
}
