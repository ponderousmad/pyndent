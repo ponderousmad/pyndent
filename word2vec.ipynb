{
 "cells": [
  {
   "cell_type": "markdown",
   "metadata": {
    "colab_type": "text",
    "id": "D7tqLMoKF6uq"
   },
   "source": [
    "Deep Learning\n",
    "=============\n",
    "\n",
    "Assignment 5\n",
    "------------\n",
    "\n",
    "The goal of this assignment is to train a skip-gram model over [Text8](http://mattmahoney.net/dc/textdata) data."
   ]
  },
  {
   "cell_type": "code",
   "execution_count": null,
   "metadata": {
    "cellView": "both",
    "colab": {
     "autoexec": {
      "startup": false,
      "wait_interval": 0
     }
    },
    "colab_type": "code",
    "collapsed": true,
    "id": "0K1ZyLn04QZf"
   },
   "outputs": [],
   "source": [
    "%matplotlib inline\n",
    "# These are all the modules we'll be using later. Make sure you can import them\n",
    "# before proceeding further.\n",
    "from __future__ import print_function\n",
    "import collections\n",
    "import math\n",
    "import numpy as np\n",
    "import os\n",
    "import random\n",
    "import sys\n",
    "import tensorflow as tf\n",
    "import zipfile\n",
    "from matplotlib import pylab\n",
    "from six.moves import range\n",
    "from six.moves.urllib.request import urlretrieve\n",
    "from sklearn.manifold import TSNE\n",
    "\n",
    "import outputer\n",
    "import convnet"
   ]
  },
  {
   "cell_type": "markdown",
   "metadata": {
    "colab_type": "text",
    "id": "aCjPJE944bkV"
   },
   "source": [
    "Download the data from the source website if necessary."
   ]
  },
  {
   "cell_type": "code",
   "execution_count": null,
   "metadata": {
    "cellView": "both",
    "colab": {
     "autoexec": {
      "startup": false,
      "wait_interval": 0
     },
     "output_extras": [
      {
       "item_id": 1
      }
     ]
    },
    "colab_type": "code",
    "collapsed": false,
    "executionInfo": {
     "elapsed": 14640,
     "status": "ok",
     "timestamp": 1445964482948,
     "user": {
      "color": "#1FA15D",
      "displayName": "Vincent Vanhoucke",
      "isAnonymous": false,
      "isMe": true,
      "permissionId": "05076109866853157986",
      "photoUrl": "//lh6.googleusercontent.com/-cCJa7dTDcgQ/AAAAAAAAAAI/AAAAAAAACgw/r2EZ_8oYer4/s50-c-k-no/photo.jpg",
      "sessionId": "2f1ffade4c9f20de",
      "userId": "102167687554210253930"
     },
     "user_tz": 420
    },
    "id": "RJ-o3UBUFtCw",
    "outputId": "c4ec222c-80b5-4298-e635-93ca9f79c3b7"
   },
   "outputs": [],
   "source": [
    "url = 'http://mattmahoney.net/dc/'\n",
    "\n",
    "def maybe_download(filename, expected_bytes):\n",
    "    \"\"\"Download a file if not present, and make sure it's the right size.\"\"\"\n",
    "    if not os.path.exists(filename):\n",
    "        filename, _ = urlretrieve(url + filename, filename)\n",
    "    statinfo = os.stat(filename)\n",
    "    if statinfo.st_size == expected_bytes:\n",
    "        print('Found and verified %s' % filename)\n",
    "    else:\n",
    "        print(statinfo.st_size)\n",
    "        raise Exception('Failed to verify ' + filename + '. Can you get to it with a browser?')\n",
    "    return filename\n",
    "\n",
    "filename = maybe_download('temp/text8.zip', 31344016)"
   ]
  },
  {
   "cell_type": "markdown",
   "metadata": {
    "colab_type": "text",
    "id": "Zqz3XiqI4mZT"
   },
   "source": [
    "Read the data into a string."
   ]
  },
  {
   "cell_type": "code",
   "execution_count": null,
   "metadata": {
    "cellView": "both",
    "colab": {
     "autoexec": {
      "startup": false,
      "wait_interval": 0
     },
     "output_extras": [
      {
       "item_id": 1
      }
     ]
    },
    "colab_type": "code",
    "collapsed": false,
    "executionInfo": {
     "elapsed": 28844,
     "status": "ok",
     "timestamp": 1445964497165,
     "user": {
      "color": "#1FA15D",
      "displayName": "Vincent Vanhoucke",
      "isAnonymous": false,
      "isMe": true,
      "permissionId": "05076109866853157986",
      "photoUrl": "//lh6.googleusercontent.com/-cCJa7dTDcgQ/AAAAAAAAAAI/AAAAAAAACgw/r2EZ_8oYer4/s50-c-k-no/photo.jpg",
      "sessionId": "2f1ffade4c9f20de",
      "userId": "102167687554210253930"
     },
     "user_tz": 420
    },
    "id": "Mvf09fjugFU_",
    "outputId": "e3a928b4-1645-4fe8-be17-fcf47de5716d"
   },
   "outputs": [],
   "source": [
    "def read_data(filename):\n",
    "    f = zipfile.ZipFile(filename)\n",
    "    for name in f.namelist():\n",
    "        return tf.compat.as_str(f.read(name)).split()\n",
    "    f.close()\n",
    "  \n",
    "words = read_data(filename)\n",
    "print('Data size %d' % len(words))\n",
    "\n",
    "print(\"Words[:5]=\", words[:5])"
   ]
  },
  {
   "cell_type": "markdown",
   "metadata": {
    "colab_type": "text",
    "id": "Zdw6i4F8glpp"
   },
   "source": [
    "Build the dictionary and replace rare words with UNK token."
   ]
  },
  {
   "cell_type": "code",
   "execution_count": null,
   "metadata": {
    "cellView": "both",
    "colab": {
     "autoexec": {
      "startup": false,
      "wait_interval": 0
     },
     "output_extras": [
      {
       "item_id": 1
      }
     ]
    },
    "colab_type": "code",
    "collapsed": false,
    "executionInfo": {
     "elapsed": 28849,
     "status": "ok",
     "timestamp": 1445964497178,
     "user": {
      "color": "#1FA15D",
      "displayName": "Vincent Vanhoucke",
      "isAnonymous": false,
      "isMe": true,
      "permissionId": "05076109866853157986",
      "photoUrl": "//lh6.googleusercontent.com/-cCJa7dTDcgQ/AAAAAAAAAAI/AAAAAAAACgw/r2EZ_8oYer4/s50-c-k-no/photo.jpg",
      "sessionId": "2f1ffade4c9f20de",
      "userId": "102167687554210253930"
     },
     "user_tz": 420
    },
    "id": "gAL1EECXeZsD",
    "outputId": "3fb4ecd1-df67-44b6-a2dc-2291730970b2"
   },
   "outputs": [],
   "source": [
    "class Document(object):\n",
    "    \"\"\" Given a sequence of words builds a two vocabulary mapping between words and numeric IDs,\n",
    "        And also tracks word frequency.\"\"\"\n",
    "    def __init__(self, words, vocabulary_size):\n",
    "        total_counts = collections.Counter(words)\n",
    "        self.vocabulary_total_size = len(total_counts)\n",
    "        self.word_counts = [['UNK', -1]] \n",
    "        self.word_counts.extend(total_counts.most_common(vocabulary_size - 1))\n",
    "        self.word_IDs = dict()\n",
    "        for word, _ in self.word_counts:\n",
    "            self.word_IDs[word] = len(self.word_IDs)\n",
    "        self.sequence = list()\n",
    "        unknowns = 0\n",
    "        for word in words:\n",
    "            if word in self.word_IDs:\n",
    "                index = self.word_IDs[word]\n",
    "            else:\n",
    "                index = 0  # dictionary['UNK']\n",
    "                unknowns = unknowns + 1\n",
    "            self.sequence.append(index)\n",
    "        self.word_counts[0][1] = unknowns\n",
    "        self.ID_to_word = dict(zip(self.word_IDs.values(), self.word_IDs.keys()))\n",
    "        \n",
    "    def vocabulary_size(self):\n",
    "        return len(self.word_IDs)\n",
    "    \n",
    "    def print_stats(self):\n",
    "        print(\"Vocabulary\", self.vocabulary_size(), \"of\", self.vocabulary_total_size)\n",
    "        print('Most common words (+UNK)', self.word_counts[:5])\n",
    "        print('Sample data', self.sequence[:10])\n",
    "\n",
    "document = Document(words, 50000)\n",
    "document.print_stats()"
   ]
  },
  {
   "cell_type": "code",
   "execution_count": null,
   "metadata": {
    "collapsed": true
   },
   "outputs": [],
   "source": [
    "del words  # Hint to reduce memory."
   ]
  },
  {
   "cell_type": "markdown",
   "metadata": {
    "colab_type": "text",
    "id": "lFwoyygOmWsL"
   },
   "source": [
    "Function to generate a training batch for the skip-gram model."
   ]
  },
  {
   "cell_type": "code",
   "execution_count": null,
   "metadata": {
    "collapsed": true
   },
   "outputs": [],
   "source": [
    "def generate_batch(batch_size, skip_count, skip_window, sequence, index):\n",
    "    assert batch_size % skip_count == 0\n",
    "    assert skip_count <= 2 * skip_window\n",
    "    batch = np.ndarray(shape=(batch_size), dtype=np.int32)\n",
    "    labels = np.ndarray(shape=(batch_size, 1), dtype=np.int32)\n",
    "    span = 2 * skip_window + 1 # [ skip_window target skip_window ]\n",
    "    buffer = collections.deque(maxlen=span)\n",
    "    for _ in range(span):\n",
    "        buffer.append(sequence[index])\n",
    "        index = (index + 1) % len(sequence)\n",
    "    for i in range(batch_size // skip_count):\n",
    "        target = skip_window  # target label at the center of the buffer\n",
    "        targets_to_avoid = [ skip_window ]\n",
    "        for j in range(skip_count):\n",
    "            while target in targets_to_avoid:\n",
    "                target = random.randint(0, span - 1)\n",
    "            targets_to_avoid.append(target)\n",
    "            batch[i * skip_count + j] = buffer[skip_window]\n",
    "            labels[i * skip_count + j, 0] = buffer[target]\n",
    "        buffer.append(sequence[index])\n",
    "        index = (index + 1) % len(sequence)\n",
    "    return batch, labels, index"
   ]
  },
  {
   "cell_type": "code",
   "execution_count": null,
   "metadata": {
    "cellView": "both",
    "colab": {
     "autoexec": {
      "startup": false,
      "wait_interval": 0
     },
     "output_extras": [
      {
       "item_id": 1
      }
     ]
    },
    "colab_type": "code",
    "collapsed": false,
    "executionInfo": {
     "elapsed": 113,
     "status": "ok",
     "timestamp": 1445964901989,
     "user": {
      "color": "#1FA15D",
      "displayName": "Vincent Vanhoucke",
      "isAnonymous": false,
      "isMe": true,
      "permissionId": "05076109866853157986",
      "photoUrl": "//lh6.googleusercontent.com/-cCJa7dTDcgQ/AAAAAAAAAAI/AAAAAAAACgw/r2EZ_8oYer4/s50-c-k-no/photo.jpg",
      "sessionId": "2f1ffade4c9f20de",
      "userId": "102167687554210253930"
     },
     "user_tz": 420
    },
    "id": "w9APjA-zmfjV",
    "outputId": "67cccb02-cdaf-4e47-d489-43bcc8d57bb8"
   },
   "outputs": [],
   "source": [
    "print('sequence:', [document.ID_to_word[di] for di in document.sequence[:8]])\n",
    "\n",
    "for skip_window in [1, 2]:\n",
    "    data_index = 0\n",
    "    batch, labels, data_index = generate_batch(\n",
    "        8, 2 * skip_window, skip_window, document.sequence, data_index\n",
    "    )\n",
    "    print('\\nwith skip_window = %d:' % (skip_window))\n",
    "    print('    batch:', [document.ID_to_word[bi] for bi in batch])\n",
    "    print('    labels:', [document.ID_to_word[li] for li in labels.reshape(8)])"
   ]
  },
  {
   "cell_type": "markdown",
   "metadata": {
    "colab_type": "text",
    "id": "Ofd1MbBuwiva"
   },
   "source": [
    "Train a skip-gram model."
   ]
  },
  {
   "cell_type": "code",
   "execution_count": null,
   "metadata": {
    "cellView": "both",
    "colab": {
     "autoexec": {
      "startup": false,
      "wait_interval": 0
     }
    },
    "colab_type": "code",
    "collapsed": false,
    "id": "8pQKsV4Vwlzy"
   },
   "outputs": [],
   "source": [
    "def setup_graph(vocab_size, batch_size, embedding_size, sample_count, valid_examples, cbow_skips=None):\n",
    "    graph = tf.Graph()\n",
    "    with graph.as_default():\n",
    "        # Input data.\n",
    "        input_shape = [batch_size, cbow_skips] if cbow_skips else [batch_size]\n",
    "        train_dataset = tf.placeholder(tf.int32, shape=input_shape)\n",
    "        train_labels = tf.placeholder(tf.int32, shape=[batch_size, 1])\n",
    "        valid_dataset = tf.constant(valid_examples, dtype=tf.int32)\n",
    "\n",
    "        # Variables.\n",
    "        embeddings = tf.Variable(\n",
    "            tf.random_uniform([vocab_size, embedding_size], -1.0, 1.0)\n",
    "        )\n",
    "        weights = tf.Variable(\n",
    "            tf.truncated_normal([vocab_size, embedding_size],\n",
    "                                stddev=1.0 / math.sqrt(embedding_size))\n",
    "        )\n",
    "        biases = tf.Variable(tf.zeros([vocab_size]))\n",
    "\n",
    "        # Model.\n",
    "        # Look up embeddings for inputs.\n",
    "        embed = tf.nn.embedding_lookup(embeddings, train_dataset)\n",
    "        if cbow_skips:\n",
    "            embed = tf.reduce_sum(embed, 1)\n",
    "        # Compute the softmax loss, using a sample of the negative labels each time.\n",
    "        sampled_softmax = tf.nn.sampled_softmax_loss(\n",
    "            weights, biases, embed, train_labels, sample_count, vocab_size\n",
    "        )\n",
    "        loss = tf.reduce_mean(sampled_softmax)\n",
    "\n",
    "        # Optimizer.\n",
    "        optimizer = tf.train.AdagradOptimizer(1.0).minimize(loss)\n",
    "\n",
    "        # Normalize the embeddings:\n",
    "        norm = tf.sqrt(tf.reduce_sum(tf.square(embeddings), 1, keep_dims=True))\n",
    "        normalized_embeddings = embeddings / norm\n",
    "\n",
    "        # Compute the similarity between validation examples and all embeddings using cosine distance:\n",
    "        valid_embeddings = tf.nn.embedding_lookup(normalized_embeddings, valid_dataset)\n",
    "        similarity = tf.matmul(valid_embeddings, tf.transpose(normalized_embeddings))\n",
    "    return {\n",
    "        \"graph\": graph,\n",
    "        \"batch_size\": batch_size,\n",
    "        \"train\": train_dataset,\n",
    "        \"labels\": train_labels,\n",
    "        \"optimizer\": optimizer,\n",
    "        \"loss\": loss,\n",
    "        \"normalized_embeddings\": normalized_embeddings,\n",
    "        \"similarity\": similarity,\n",
    "        \"valid_examples\": valid_examples\n",
    "    }"
   ]
  },
  {
   "cell_type": "code",
   "execution_count": null,
   "metadata": {
    "cellView": "both",
    "colab": {
     "autoexec": {
      "startup": false,
      "wait_interval": 0
     },
     "output_extras": [
      {
       "item_id": 23
      },
      {
       "item_id": 48
      },
      {
       "item_id": 61
      }
     ]
    },
    "colab_type": "code",
    "collapsed": false,
    "executionInfo": {
     "elapsed": 436189,
     "status": "ok",
     "timestamp": 1445965429787,
     "user": {
      "color": "#1FA15D",
      "displayName": "Vincent Vanhoucke",
      "isAnonymous": false,
      "isMe": true,
      "permissionId": "05076109866853157986",
      "photoUrl": "//lh6.googleusercontent.com/-cCJa7dTDcgQ/AAAAAAAAAAI/AAAAAAAACgw/r2EZ_8oYer4/s50-c-k-no/photo.jpg",
      "sessionId": "2f1ffade4c9f20de",
      "userId": "102167687554210253930"
     },
     "user_tz": 420
    },
    "id": "1bQFGceBxrWW",
    "outputId": "5ebd6d9a-33c6-4bcd-bf6d-252b0b6055e4"
   },
   "outputs": [],
   "source": [
    "def run_graph(graph_data, document, batcher, skip_window, skip_count, step_count):\n",
    "    with tf.Session(graph=graph_data[\"graph\"]) as session:\n",
    "        tf.initialize_all_variables().run()\n",
    "        print('Initialized')\n",
    "        average_loss = 0\n",
    "        data_index = 0\n",
    "        for step in range(step_count + 1):\n",
    "            batch_data, batch_labels, data_index = batcher(\n",
    "                graph_data[\"batch_size\"],\n",
    "                skip_count, skip_window,\n",
    "                document.sequence, data_index\n",
    "            )\n",
    "            feed_dict = {\n",
    "                graph_data[\"train\"] : batch_data,\n",
    "                graph_data[\"labels\"] : batch_labels\n",
    "            }\n",
    "            inputs = [graph_data[\"optimizer\"], graph_data[\"loss\"]]\n",
    "            _, l = session.run(inputs, feed_dict=feed_dict)\n",
    "            average_loss += l\n",
    "            if step % 2000 == 0:\n",
    "                if step > 0:\n",
    "                    average_loss = average_loss / 2000\n",
    "                # The average loss is an estimate of the loss over the last 2000 batches.\n",
    "                print('Average loss at step %d: %f' % (step, average_loss))\n",
    "                average_loss = 0\n",
    "            # note that this is expensive (~20% slowdown if computed every 500 steps)\n",
    "            if step % 10000 == 0:\n",
    "                sim = graph_data[\"similarity\"].eval()\n",
    "                for i in range(len(graph_data[\"valid_examples\"])):\n",
    "                    valid_word = document.ID_to_word[graph_data[\"valid_examples\"][i]]\n",
    "                    top_k = 8 # number of nearest neighbors\n",
    "                    nearest = (-sim[i, :]).argsort()[1:top_k+1]\n",
    "                    log = 'Nearest to %s:' % valid_word\n",
    "                    for k in range(top_k):\n",
    "                        close_word = document.ID_to_word[nearest[k]]\n",
    "                        log = '%s %s,' % (log, close_word)\n",
    "                    print(log)\n",
    "\n",
    "        return graph_data[\"normalized_embeddings\"].eval()"
   ]
  },
  {
   "cell_type": "code",
   "execution_count": null,
   "metadata": {
    "collapsed": false
   },
   "outputs": [],
   "source": [
    "# We pick a random validation set to sample nearest neighbors. here we limit the\n",
    "# validation samples to the words that have a low numeric ID, which by\n",
    "# construction are also the most frequent. \n",
    "valid_size = 16 # Random set of words to evaluate similarity on.\n",
    "valid_window = 100 # Only pick dev samples in the head of the distribution.\n",
    "valid_examples=np.array(random.sample(range(valid_window), valid_size))\n",
    "\n",
    "graph_data = setup_graph(\n",
    "    document.vocabulary_size(),\n",
    "    batch_size=128,\n",
    "    embedding_size=128,\n",
    "    sample_count=64, # Number of negative examples to sample.\n",
    "    valid_examples=valid_examples\n",
    ")\n",
    "\n",
    "final_embeddings = run_graph(\n",
    "    graph_data,\n",
    "    document,\n",
    "    generate_batch,\n",
    "    skip_window=1, # How many words to consider left and right.\n",
    "    skip_count=2,\n",
    "    step_count=100000\n",
    ")"
   ]
  },
  {
   "cell_type": "code",
   "execution_count": null,
   "metadata": {
    "cellView": "both",
    "colab": {
     "autoexec": {
      "startup": false,
      "wait_interval": 0
     }
    },
    "colab_type": "code",
    "collapsed": true,
    "id": "jjJXYA_XzV79"
   },
   "outputs": [],
   "source": [
    "def apply_tsne(embeddings, points):\n",
    "    tsne = TSNE(perplexity=30, n_components=2, init='pca', n_iter=5000)\n",
    "    return tsne.fit_transform(embeddings[1:points+1, :])"
   ]
  },
  {
   "cell_type": "code",
   "execution_count": null,
   "metadata": {
    "collapsed": true
   },
   "outputs": [],
   "source": [
    "def plot(embeddings, labels):\n",
    "    assert embeddings.shape[0] >= len(labels), 'More labels than embeddings'\n",
    "    pylab.figure(figsize=(15,15))  # in inches\n",
    "    for i, label in enumerate(labels):\n",
    "        x, y = embeddings[i,:]\n",
    "        pylab.scatter(x, y)\n",
    "        pylab.annotate(label, xy=(x, y), xytext=(5, 2), textcoords='offset points', ha='right', va='bottom')\n",
    "    pylab.show()"
   ]
  },
  {
   "cell_type": "code",
   "execution_count": null,
   "metadata": {
    "collapsed": true
   },
   "outputs": [],
   "source": [
    "example_words = [document.ID_to_word[i] for i in range(1, 401)]"
   ]
  },
  {
   "cell_type": "code",
   "execution_count": null,
   "metadata": {
    "cellView": "both",
    "colab": {
     "autoexec": {
      "startup": false,
      "wait_interval": 0
     },
     "output_extras": [
      {
       "item_id": 1
      }
     ]
    },
    "colab_type": "code",
    "collapsed": false,
    "executionInfo": {
     "elapsed": 4763,
     "status": "ok",
     "timestamp": 1445965465525,
     "user": {
      "color": "#1FA15D",
      "displayName": "Vincent Vanhoucke",
      "isAnonymous": false,
      "isMe": true,
      "permissionId": "05076109866853157986",
      "photoUrl": "//lh6.googleusercontent.com/-cCJa7dTDcgQ/AAAAAAAAAAI/AAAAAAAACgw/r2EZ_8oYer4/s50-c-k-no/photo.jpg",
      "sessionId": "2f1ffade4c9f20de",
      "userId": "102167687554210253930"
     },
     "user_tz": 420
    },
    "id": "o_e0D_UezcDe",
    "outputId": "df22e4a5-e8ec-4e5e-d384-c6cf37c68c34"
   },
   "outputs": [],
   "source": [
    "plot(apply_tsne(final_embeddings, len(example_words)), example_words)"
   ]
  },
  {
   "cell_type": "markdown",
   "metadata": {
    "colab_type": "text",
    "id": "QB5EFrBnpNnc"
   },
   "source": [
    "---\n",
    "\n",
    "Problem\n",
    "-------\n",
    "\n",
    "An alternative to Word2Vec is called [CBOW](http://arxiv.org/abs/1301.3781) (Continuous Bag of Words). In the CBOW model, instead of predicting a context word from a word vector, you predict a word from the sum of all the word vectors in its context. Implement and evaluate a CBOW model trained on the text8 dataset.\n",
    "\n",
    "---"
   ]
  },
  {
   "cell_type": "code",
   "execution_count": null,
   "metadata": {
    "collapsed": false
   },
   "outputs": [],
   "source": [
    "def generate_cbow_batch(batch_size, skip_count, skip_window, sequence, index):\n",
    "    assert batch_size % skip_count == 0\n",
    "    assert skip_count <= 2 * skip_window\n",
    "    batch = np.ndarray(shape=(batch_size, skip_count), dtype=np.int32)\n",
    "    labels = np.ndarray(shape=(batch_size, 1), dtype=np.int32)\n",
    "    span = 2 * skip_window + 1 # [ skip_window target skip_window ]\n",
    "    buffer = collections.deque(maxlen=span)\n",
    "    for _ in range(span):\n",
    "        buffer.append(sequence[index])\n",
    "        index = (index + 1) % len(sequence)\n",
    "    for i in range(batch_size):\n",
    "        target = skip_window  # target label at the center of the buffer\n",
    "        targets_to_avoid = [ skip_window ]\n",
    "        labels[i] = buffer[skip_window]\n",
    "        for j in range(skip_count):\n",
    "            while target in targets_to_avoid:\n",
    "                target = random.randint(0, span - 1)\n",
    "            targets_to_avoid.append(target)\n",
    "            batch[i][j] = buffer[target]\n",
    "        buffer.append(sequence[index])\n",
    "        index = (index + 1) % len(sequence)\n",
    "    return batch, labels, index\n",
    "\n",
    "print('data:', [document.ID_to_word[di] for di in document.sequence[:12]])\n",
    "\n",
    "for skip_window in [1, 2]:\n",
    "    cbow_index = 0\n",
    "    cbow_batch, cbow_labels, cbow_index = generate_cbow_batch(\n",
    "        8, 2 * skip_window, skip_window, document.sequence, cbow_index\n",
    "    )\n",
    "    print('\\nwith skip_window = %d:' % (skip_window))\n",
    "    print('    batch:', [[document.ID_to_word[bi] for bi in skips] for skips in cbow_batch])\n",
    "    print('    labels:', [document.ID_to_word[li] for li in cbow_labels.reshape(8)])"
   ]
  },
  {
   "cell_type": "code",
   "execution_count": null,
   "metadata": {
    "collapsed": false
   },
   "outputs": [],
   "source": [
    "cbow_skip_count = 2\n",
    "cbow_graph = graph_data = setup_graph(\n",
    "    document.vocabulary_size(),\n",
    "    batch_size=128,\n",
    "    embedding_size=128,\n",
    "    sample_count=64, # Number of negative examples to sample.\n",
    "    valid_examples=valid_examples,\n",
    "    cbow_skips=cbow_skip_count\n",
    ")\n",
    "\n",
    "cbow_embeddings = run_graph(\n",
    "    graph_data,\n",
    "    document,\n",
    "    generate_cbow_batch,\n",
    "    skip_window=1, # How many words to consider left and right.\n",
    "    skip_count=cbow_skip_count,\n",
    "    step_count=100000\n",
    ")"
   ]
  },
  {
   "cell_type": "code",
   "execution_count": null,
   "metadata": {
    "collapsed": true
   },
   "outputs": [],
   "source": [
    "plot(apply_tsne(final_embeddings, len(example_words)), example_words)"
   ]
  }
 ],
 "metadata": {
  "anaconda-cloud": {},
  "colab": {
   "default_view": {},
   "name": "5_word2vec.ipynb",
   "provenance": [],
   "version": "0.3.2",
   "views": {}
  },
  "kernelspec": {
   "display_name": "Python [Root]",
   "language": "python",
   "name": "Python [Root]"
  },
  "language_info": {
   "codemirror_mode": {
    "name": "ipython",
    "version": 3
   },
   "file_extension": ".py",
   "mimetype": "text/x-python",
   "name": "python",
   "nbconvert_exporter": "python",
   "pygments_lexer": "ipython3",
   "version": "3.5.2"
  }
 },
 "nbformat": 4,
 "nbformat_minor": 0
}
