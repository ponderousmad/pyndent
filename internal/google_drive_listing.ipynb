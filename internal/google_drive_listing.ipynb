{
 "cells": [
  {
   "cell_type": "code",
   "execution_count": null,
   "metadata": {
    "collapsed": false
   },
   "outputs": [],
   "source": [
    "from __future__ import print_function\n",
    "import httplib2\n",
    "import inspect\n",
    "import os\n",
    "\n",
    "from apiclient import discovery\n",
    "from apiclient import errors\n",
    "import oauth2client\n",
    "from oauth2client import client\n",
    "from oauth2client import tools"
   ]
  },
  {
   "cell_type": "code",
   "execution_count": null,
   "metadata": {
    "collapsed": true
   },
   "outputs": [],
   "source": [
    "# If modifying these scopes, delete your previously saved credentials\n",
    "# at ~/.credentials/drive-python-quickstart.json\n",
    "SCOPES = 'https://www.googleapis.com/auth/drive.metadata.readonly https://www.googleapis.com/auth/drive.readonly'\n",
    "CLIENT_SECRET_FILE = 'client_secret.json'\n",
    "APPLICATION_NAME = 'Drive API Python Quickstart'"
   ]
  },
  {
   "cell_type": "code",
   "execution_count": null,
   "metadata": {
    "collapsed": false
   },
   "outputs": [],
   "source": [
    "def get_credentials():\n",
    "    \"\"\"Gets valid user credentials from storage.\n",
    "    Must run google_api_credentials.py from the command line first to set up credentials.\n",
    "    Returns:\n",
    "        Credentials, the obtained credential.\n",
    "    \"\"\"\n",
    "    credential_path = '../temp/.credentials/drive-python-quickstart.json'\n",
    "    store = oauth2client.file.Storage(credential_path)\n",
    "    return store.get()"
   ]
  },
  {
   "cell_type": "code",
   "execution_count": null,
   "metadata": {
    "collapsed": false
   },
   "outputs": [],
   "source": [
    "def get_children_ids(service, folder_id):\n",
    "    \"\"\"Print files belonging to a folder.\n",
    "\n",
    "    Args:\n",
    "    service: Drive API service instance.\n",
    "    folder_id: ID of the folder to print files from.\n",
    "    \"\"\"\n",
    "    page_token = None\n",
    "    all_children = []\n",
    "    while True:\n",
    "        try:\n",
    "            param = {}\n",
    "            if page_token:\n",
    "                param['pageToken'] = page_token\n",
    "            children = service.children().list(folderId=folder_id, **param).execute()\n",
    "\n",
    "            child_items = children.get('items', [])\n",
    "            all_children.extend(child_items)\n",
    "            page_token = children.get('nextPageToken')\n",
    "            if not page_token:\n",
    "                break\n",
    "        except errors.HttpError, error:\n",
    "            print('An error occurred: %s' % error)\n",
    "            break\n",
    "    return all_children"
   ]
  },
  {
   "cell_type": "code",
   "execution_count": null,
   "metadata": {
    "collapsed": true
   },
   "outputs": [],
   "source": [
    "def get_file_info(service, file_id):\n",
    "    try:\n",
    "        file = service.files().get(fileId=file_id).execute()\n",
    "        return [file[\"originalFilename\"], file_id, file[\"fileSize\"]]\n",
    "    except errors.HttpError, error:\n",
    "        print('An error occurred: %s' % error)"
   ]
  },
  {
   "cell_type": "code",
   "execution_count": null,
   "metadata": {
    "collapsed": false
   },
   "outputs": [],
   "source": [
    "def list_files(folder_id):\n",
    "    credentials = get_credentials()\n",
    "    http = credentials.authorize(httplib2.Http())\n",
    "    service = discovery.build('drive', 'v2', http=http)\n",
    "    \n",
    "    listing = []\n",
    "\n",
    "    children = get_children_ids(service, folder_id)\n",
    "\n",
    "    for child in children:\n",
    "        entry = get_file_info(service, child[\"id\"])\n",
    "        listing.append(entry)\n",
    "        print(\",\".join(entry))\n",
    "    return listing"
   ]
  },
  {
   "cell_type": "code",
   "execution_count": null,
   "metadata": {
    "collapsed": true
   },
   "outputs": [],
   "source": [
    "def list_all_files(folders):\n",
    "    for folder_id in folders:\n",
    "        results = list_files(folder_id)\n",
    "        results = sorted(results, key=lambda entry:entry[0])\n",
    "\n",
    "        with open(\"folder_\" + folder_id + \".csv\", \"w\") as drive_files:\n",
    "            for entry in results:\n",
    "                print(\",\".join(entry), file=drive_files)"
   ]
  },
  {
   "cell_type": "code",
   "execution_count": null,
   "metadata": {
    "collapsed": false
   },
   "outputs": [],
   "source": [
    "folder_ids = [\n",
    "    \"0B8WcbXogHveganEwc0ZCelN2Wmc\",\n",
    "    \"0B8WcbXogHvegWU1JVTJzSG1FSjQ\",\n",
    "    \"0B8WcbXogHvegOW1yVXVBeGItSzQ\",\n",
    "    \"0B8WcbXogHvegb2JZQmJwRnZzMnc\",\n",
    "    \"0B8WcbXogHvegZTA1dFU4MXptM1k\",\n",
    "    \"0B8WcbXogHvegRWFRNVBJUXZnczg\",\n",
    "    \"0B8WcbXogHvegMnIxOHR0ME1lUlE\",\n",
    "    \"0B8WcbXogHvegbnF2U1lQbUFCQW8\",\n",
    "    \"0B8WcbXogHvegTHNmX3pWMnZrVnc\",\n",
    "    \"0B8WcbXogHvegS0NMLTFyckFwYnM\",\n",
    "    \"0B8WcbXogHvegeVZPLW1reDlRV0E\",\n",
    "    \"0B8WcbXogHvegYjVCVkQ4ZXV4aU0\"\n",
    "]\n",
    "list_all_files(folder_ids)"
   ]
  },
  {
   "cell_type": "code",
   "execution_count": null,
   "metadata": {
    "collapsed": true
   },
   "outputs": [],
   "source": []
  }
 ],
 "metadata": {
  "kernelspec": {
   "display_name": "Python 2",
   "language": "python",
   "name": "python2"
  },
  "language_info": {
   "codemirror_mode": {
    "name": "ipython",
    "version": 2
   },
   "file_extension": ".py",
   "mimetype": "text/x-python",
   "name": "python",
   "nbconvert_exporter": "python",
   "pygments_lexer": "ipython2",
   "version": "2.7.11"
  }
 },
 "nbformat": 4,
 "nbformat_minor": 0
}
