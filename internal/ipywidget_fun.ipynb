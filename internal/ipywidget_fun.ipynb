{
 "cells": [
  {
   "cell_type": "code",
   "execution_count": null,
   "metadata": {
    "collapsed": false,
    "deletable": true,
    "editable": true
   },
   "outputs": [],
   "source": [
    "%matplotlib inline\n",
    "import ipywidgets\n",
    "import sys\n",
    "import time\n",
    "from __future__ import print_function\n",
    "from IPython.display import display"
   ]
  },
  {
   "cell_type": "code",
   "execution_count": null,
   "metadata": {
    "collapsed": false,
    "deletable": true,
    "editable": true
   },
   "outputs": [],
   "source": [
    "def setupLabel(title):\n",
    "    return ipywidgets.FloatText(value=0, description=title, disabled=True)\n",
    "titles = [\"Loss\", \"Accuracy\", \"Error\"]\n",
    "currentDisplay = [setupLabel(title) for title in titles]\n",
    "averageDisplay = [setupLabel(title) for title in titles]\n",
    "current_title_html = \"<div style=\"\"margin-left:90px\"\">Current</div>\"\n",
    "average_title_html = \"<div style=\"\"margin-left:90px\"\">Running Average</div>\"\n",
    "display(ipywidgets.HBox([\n",
    "    ipywidgets.VBox([ipywidgets.HTML(current_title_html)] + currentDisplay),\n",
    "    ipywidgets.VBox([ipywidgets.HTML(average_title_html)] + averageDisplay)\n",
    "]))"
   ]
  },
  {
   "cell_type": "code",
   "execution_count": null,
   "metadata": {
    "collapsed": true,
    "deletable": true,
    "editable": true
   },
   "outputs": [],
   "source": [
    "results = []\n",
    "def recordScore(score):\n",
    "    results.append(score)\n",
    "    for display, value in zip(currentDisplay, score):\n",
    "        display.value = value\n",
    "\n",
    "    resultCount = min(len(results), 100)\n",
    "    averages = [sum(x)/resultCount for x in zip(*results[-resultCount:])]\n",
    "    for display, value in zip(averageDisplay, averages):\n",
    "        display.value = value"
   ]
  },
  {
   "cell_type": "code",
   "execution_count": null,
   "metadata": {
    "collapsed": false,
    "deletable": true,
    "editable": true
   },
   "outputs": [],
   "source": [
    "for i in range(100):\n",
    "    f = float(i)\n",
    "    recordScore((f, 2*f, 4*f))\n",
    "    time.sleep(0.1)"
   ]
  },
  {
   "cell_type": "code",
   "execution_count": null,
   "metadata": {
    "collapsed": true,
    "deletable": true,
    "editable": true
   },
   "outputs": [],
   "source": []
  }
 ],
 "metadata": {
  "kernelspec": {
   "display_name": "Python 3",
   "language": "python",
   "name": "python3"
  },
  "language_info": {
   "codemirror_mode": {
    "name": "ipython",
    "version": 3
   },
   "file_extension": ".py",
   "mimetype": "text/x-python",
   "name": "python",
   "nbconvert_exporter": "python",
   "pygments_lexer": "ipython3",
   "version": "3.5.3"
  }
 },
 "nbformat": 4,
 "nbformat_minor": 0
}
