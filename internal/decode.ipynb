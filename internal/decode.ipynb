{
 "cells": [
  {
   "cell_type": "markdown",
   "metadata": {},
   "source": [
    "# Exploring and Validating code for the improc module"
   ]
  },
  {
   "cell_type": "code",
   "execution_count": null,
   "metadata": {
    "collapsed": false
   },
   "outputs": [],
   "source": [
    "%matplotlib inline\n",
    "import os\n",
    "import math\n",
    "import numpy as np\n",
    "import timeit\n",
    "import sys\n",
    "import matplotlib.pyplot as plt\n",
    "from IPython.display import Image\n",
    "from scipy import ndimage\n",
    "from sklearn.preprocessing import Imputer"
   ]
  },
  {
   "cell_type": "code",
   "execution_count": null,
   "metadata": {
    "collapsed": true
   },
   "outputs": [],
   "source": [
    "sys.path.append(os.path.join(sys.path[0], '..'))\n",
    "import improc"
   ]
  },
  {
   "cell_type": "code",
   "execution_count": null,
   "metadata": {
    "collapsed": false
   },
   "outputs": [],
   "source": [
    "test_path = \"../captures/orient/orient - 1.PNG\"\n",
    "Image(filename=test_path)"
   ]
  },
  {
   "cell_type": "code",
   "execution_count": null,
   "metadata": {
    "collapsed": false
   },
   "outputs": [],
   "source": [
    "combined_image = ndimage.imread(test_path)\n",
    "combined_image.shape"
   ]
  },
  {
   "cell_type": "code",
   "execution_count": null,
   "metadata": {
    "collapsed": false
   },
   "outputs": [],
   "source": [
    "def split(image):\n",
    "    \"\"\"Take a color/depth image pair and split out the two parts.\"\"\"\n",
    "    split_height = image.shape[0] / 2\n",
    "    return image[:split_height], image[split_height:]\n",
    "camera_image, depth_image = split(combined_image)\n",
    "print camera_image.shape, depth_image.shape"
   ]
  },
  {
   "cell_type": "code",
   "execution_count": null,
   "metadata": {
    "collapsed": false
   },
   "outputs": [],
   "source": [
    "depth_image[0].shape"
   ]
  },
  {
   "cell_type": "markdown",
   "metadata": {},
   "source": [
    "# Naive python code for decoding depth (slow)"
   ]
  },
  {
   "cell_type": "code",
   "execution_count": null,
   "metadata": {
    "collapsed": false
   },
   "outputs": [],
   "source": [
    "def convert_to_depth(image):\n",
    "    height = image.shape[0]\n",
    "    width = image.shape[1]\n",
    "    depths = np.zeros((height, width), dtype=np.float32)\n",
    "    BYTE_MAX = 255\n",
    "    CHANNEL_MAX = 8\n",
    "    MAX_RED_VALUE = BYTE_MAX - CHANNEL_MAX\n",
    "    CHANNELS_MAX = CHANNEL_MAX * CHANNEL_MAX\n",
    "    INVALID = float('Nan')\n",
    "\n",
    "    def byteToUnit(value):\n",
    "        return ((2.0 * value) / BYTE_MAX) - 1\n",
    "    \n",
    "    to_decode = []\n",
    "    decoded = []\n",
    "    next_decode = None\n",
    "    attitude = {\n",
    "        \"quaternion\": [1, 0, 0, 0],\n",
    "        \"euler\": [0, 0, 0],\n",
    "        \"matrix\": [[1, 0, 0], [0, 1, 0], [0, 0, 1]]\n",
    "    }\n",
    "    for y in xrange(0, height):\n",
    "        row = image[y]\n",
    "        depth_row = depths[y]\n",
    "        for x in xrange(0, width):\n",
    "            pixel = row[x]\n",
    "            red = pixel[0]\n",
    "            if (x == 0 or x == 2) and y == 0 and red == BYTE_MAX:\n",
    "                if x == 0:\n",
    "                    to_decode = [\"quaternion\"]\n",
    "                else:\n",
    "                    to_decode = [\"euler\", 0, 1, 2]\n",
    "                depth_row[x] = INVALID\n",
    "                continue\n",
    "            if to_decode:\n",
    "                entry = to_decode.pop(0)\n",
    "                if entry == \"quaternion\":\n",
    "                    quaternion = attitude[entry]\n",
    "                    for c in range(0, len(quaternion)):\n",
    "                        quaternion[c] = byteToUnit(pixel[c])\n",
    "                elif entry == \"euler\":\n",
    "                    euler = attitude[entry]\n",
    "                    for c in range(0, len(euler)):\n",
    "                        euler[c] = math.pi * byteToUnit(pixel[c])\n",
    "                else:\n",
    "                    matrix = attitude[\"matrix\"]\n",
    "                    matrix_row = matrix[entry]\n",
    "                    for c in range(0, len(matrix_row)):\n",
    "                        matrix_row[c] = byteToUnit(pixel[c])\n",
    "                depth_row[x] = INVALID\n",
    "                continue\n",
    "            if red == 0:\n",
    "                depth_row[x] = INVALID\n",
    "                continue\n",
    "            green = pixel[1] - red\n",
    "            blue = pixel[2] - red\n",
    "            depth_row[x] = (MAX_RED_VALUE - red)*CHANNELS_MAX + green*CHANNEL_MAX + blue \n",
    "    return depths, attitude"
   ]
  },
  {
   "cell_type": "code",
   "execution_count": null,
   "metadata": {
    "collapsed": false
   },
   "outputs": [],
   "source": [
    "depths, attitude = convert_to_depth(depth_image)"
   ]
  },
  {
   "cell_type": "code",
   "execution_count": null,
   "metadata": {
    "collapsed": false
   },
   "outputs": [],
   "source": [
    "depths.shape"
   ]
  },
  {
   "cell_type": "code",
   "execution_count": null,
   "metadata": {
    "collapsed": false
   },
   "outputs": [],
   "source": [
    "attitude"
   ]
  },
  {
   "cell_type": "code",
   "execution_count": null,
   "metadata": {
    "collapsed": false
   },
   "outputs": [],
   "source": [
    "a = np.array(attitude[\"quaternion\"])"
   ]
  },
  {
   "cell_type": "code",
   "execution_count": null,
   "metadata": {
    "collapsed": false
   },
   "outputs": [],
   "source": [
    "a2 = a * a\n",
    "a2"
   ]
  },
  {
   "cell_type": "code",
   "execution_count": null,
   "metadata": {
    "collapsed": false
   },
   "outputs": [],
   "source": [
    "a2sum = np.sum(a2[0:3])\n",
    "a2sum"
   ]
  },
  {
   "cell_type": "code",
   "execution_count": null,
   "metadata": {
    "collapsed": false
   },
   "outputs": [],
   "source": [
    "w = np.sqrt(1 - a2sum)\n",
    "w"
   ]
  },
  {
   "cell_type": "code",
   "execution_count": null,
   "metadata": {
    "collapsed": true
   },
   "outputs": [],
   "source": [
    "a[3] = w"
   ]
  },
  {
   "cell_type": "code",
   "execution_count": null,
   "metadata": {
    "collapsed": false
   },
   "outputs": [],
   "source": [
    "np.sum(a * a)"
   ]
  },
  {
   "cell_type": "code",
   "execution_count": null,
   "metadata": {
    "collapsed": false
   },
   "outputs": [],
   "source": [
    "a"
   ]
  },
  {
   "cell_type": "code",
   "execution_count": null,
   "metadata": {
    "collapsed": false
   },
   "outputs": [],
   "source": [
    "depths[120][300:310]"
   ]
  },
  {
   "cell_type": "code",
   "execution_count": null,
   "metadata": {
    "collapsed": true
   },
   "outputs": [],
   "source": [
    "depths[0][0:20]"
   ]
  },
  {
   "cell_type": "code",
   "execution_count": null,
   "metadata": {
    "collapsed": false
   },
   "outputs": [],
   "source": [
    "timeit.timeit(\n",
    "    \"depths, attitude = convert_to_depth(depth_image)\",\n",
    "    number=10,\n",
    "    setup=\"from __main__ import convert_to_depth, depth_image\"\n",
    ")"
   ]
  },
  {
   "cell_type": "markdown",
   "metadata": {},
   "source": [
    "# Numpy rewrite of decoding (much faster)"
   ]
  },
  {
   "cell_type": "code",
   "execution_count": null,
   "metadata": {
    "collapsed": false
   },
   "outputs": [],
   "source": [
    "def decode_depth(image):\n",
    "    BYTE_MAX = 255\n",
    "    CHANNEL_MAX = 8.0\n",
    "    MAX_RED_VALUE = BYTE_MAX - CHANNEL_MAX\n",
    "    CHANNELS_MAX = CHANNEL_MAX * CHANNEL_MAX\n",
    "    \n",
    "    def byteToUnit(value):\n",
    "        return ((2.0 * value) / BYTE_MAX) - 1\n",
    "    \n",
    "    attitude = {\n",
    "        \"quaternion\": [1, 0, 0, 0],\n",
    "        \"euler\": [0, 0, 0],\n",
    "        \"matrix\": [[1, 0, 0], [0, 1, 0], [0, 0, 1]]\n",
    "    }\n",
    "    leading_nans = 0\n",
    "    \n",
    "    if np.array_equal(image[0, 0], [BYTE_MAX, 0, 0, BYTE_MAX]):\n",
    "        pixel = image[0, 1]\n",
    "        orientation = attitude[\"quaternion\"]\n",
    "        for c in range(len(orientation)):\n",
    "            orientation[c] = byteToUnit(pixel[c])\n",
    "        leading_nans += 2\n",
    "        \n",
    "    if np.array_equal(image[0, 2], [BYTE_MAX, 0, 0, BYTE_MAX]):\n",
    "        pixel = image[0, 3]\n",
    "        orientation = attitude[\"euler\"]\n",
    "        for c in range(len(orientation)):\n",
    "            orientation[c] = math.pi * byteToUnit(pixel[c])\n",
    "        matrix = attitude[\"matrix\"]\n",
    "        for r in range(len(matrix)):\n",
    "            pixel = image[0, 4 + r]\n",
    "            row = matrix[r]\n",
    "            for c in range(len(row)):\n",
    "                row[c] = byteToUnit(pixel[c])\n",
    "        leading_nans += 5\n",
    "        \n",
    "    red = image[:, :, 0]\n",
    "    green = image[:, :, 1] - red\n",
    "    blue = image[:, :, 2] - red\n",
    "\n",
    "    depth = (MAX_RED_VALUE - red)*CHANNELS_MAX + green*CHANNEL_MAX + blue\n",
    "    depth[np.where(red == 0)] = np.nan\n",
    "    depth[0, :leading_nans] = np.nan\n",
    "    return depth, attitude"
   ]
  },
  {
   "cell_type": "code",
   "execution_count": null,
   "metadata": {
    "collapsed": false
   },
   "outputs": [],
   "source": [
    "depths, attitude = decode_depth(depth_image)"
   ]
  },
  {
   "cell_type": "code",
   "execution_count": null,
   "metadata": {
    "collapsed": false
   },
   "outputs": [],
   "source": [
    "depths.shape"
   ]
  },
  {
   "cell_type": "code",
   "execution_count": null,
   "metadata": {
    "collapsed": false
   },
   "outputs": [],
   "source": [
    "depths[120][300:310]"
   ]
  },
  {
   "cell_type": "code",
   "execution_count": null,
   "metadata": {
    "collapsed": false
   },
   "outputs": [],
   "source": [
    "depths[0][0:20]"
   ]
  },
  {
   "cell_type": "code",
   "execution_count": null,
   "metadata": {
    "collapsed": false
   },
   "outputs": [],
   "source": [
    "attitude"
   ]
  },
  {
   "cell_type": "code",
   "execution_count": null,
   "metadata": {
    "collapsed": false
   },
   "outputs": [],
   "source": [
    "timeit.timeit(\n",
    "    \"depths, attitude = decode_depth(depth_image)\",\n",
    "    number=10,\n",
    "    setup=\"from __main__ import decode_depth, depth_image\"\n",
    ")"
   ]
  },
  {
   "cell_type": "code",
   "execution_count": null,
   "metadata": {
    "collapsed": false
   },
   "outputs": [],
   "source": [
    "plt.imshow(depths)"
   ]
  },
  {
   "cell_type": "markdown",
   "metadata": {},
   "source": [
    "# Filling holes with sklearn's Imputer\n",
    "Replaces NaN with mean/max of row or column"
   ]
  },
  {
   "cell_type": "code",
   "execution_count": null,
   "metadata": {
    "collapsed": false
   },
   "outputs": [],
   "source": [
    "imp = Imputer(strategy=\"mean\")\n",
    "cleaned = imp.fit_transform(depths)"
   ]
  },
  {
   "cell_type": "code",
   "execution_count": null,
   "metadata": {
    "collapsed": false
   },
   "outputs": [],
   "source": [
    "plt.imshow(cleaned)"
   ]
  },
  {
   "cell_type": "code",
   "execution_count": null,
   "metadata": {
    "collapsed": false
   },
   "outputs": [],
   "source": [
    "depths[330,0]"
   ]
  },
  {
   "cell_type": "code",
   "execution_count": null,
   "metadata": {
    "collapsed": false
   },
   "outputs": [],
   "source": [
    "cleaned[330,0]"
   ]
  },
  {
   "cell_type": "markdown",
   "metadata": {},
   "source": [
    "# Filling holes with block mean\n",
    "Replace NaN with mean/max of corresponding 15x20 pixel blocks"
   ]
  },
  {
   "cell_type": "code",
   "execution_count": null,
   "metadata": {
    "collapsed": false
   },
   "outputs": [],
   "source": [
    "reshaped = depths.copy().reshape(32, 15, 32, 20)\n",
    "masked = np.ma.masked_array(reshaped, np.isnan(reshaped))\n",
    "masked_means = np.mean(np.mean(masked, axis=3), axis=1)\n",
    "means = masked_means.filled(np.nan)\n",
    "plt.imshow(means)"
   ]
  },
  {
   "cell_type": "code",
   "execution_count": null,
   "metadata": {
    "collapsed": false
   },
   "outputs": [],
   "source": [
    "expanded = np.repeat(means,20,axis=1).reshape(32,640)\n",
    "expanded = np.repeat(expanded,15,axis=0).reshape(480,640)\n",
    "print expanded.shape\n",
    "plt.imshow(expanded)"
   ]
  },
  {
   "cell_type": "code",
   "execution_count": null,
   "metadata": {
    "collapsed": true
   },
   "outputs": [],
   "source": [
    "ind = np.where(np.isnan(depths))\n",
    "cleaned = depths.copy()\n",
    "cleaned[ind] = expanded[ind]"
   ]
  },
  {
   "cell_type": "code",
   "execution_count": null,
   "metadata": {
    "collapsed": false
   },
   "outputs": [],
   "source": [
    "plt.imshow(cleaned)"
   ]
  },
  {
   "cell_type": "markdown",
   "metadata": {},
   "source": [
    "# Fill NaNs with localized stat values using mipmaps\n",
    "Combined this: http://stackoverflow.com/questions/14549696/mipmap-of-image-in-numpy\n",
    "\n",
    "With this: http://stackoverflow.com/questions/5480694/numpy-calculate-averages-with-nans-removed"
   ]
  },
  {
   "cell_type": "code",
   "execution_count": null,
   "metadata": {
    "collapsed": false
   },
   "outputs": [],
   "source": [
    "def mipmap_imputer(image, strategy=np.mean, scales=None):\n",
    "    scales = scales if scales else [(5,5), (3,2), (2,2), (2,2), (2,2), (2,2), (2,2), (1,2)]\n",
    "    mipmaps = []\n",
    "    mipmap = image\n",
    "    for y, x in scales:\n",
    "        mipmap = mipmap.copy()\n",
    "        size = mipmap.shape\n",
    "        reshaped = mipmap.reshape(size[0] / y, y, size[1] / x, x)\n",
    "        masked = np.ma.masked_array(reshaped, np.isnan(reshaped))\n",
    "        mipmap = strategy(strategy(masked, axis=3), axis=1).filled(np.nan)\n",
    "        mipmaps.append(mipmap)\n",
    "    \n",
    "    for index, mipmap in reversed(list(enumerate(mipmaps))):\n",
    "        y, x = scales[index]\n",
    "        expanded = mipmap\n",
    "        if x > 1:\n",
    "            x_size = expanded.shape[1] * x\n",
    "            expanded = np.repeat(expanded, x, axis=1).reshape(expanded.shape[0], x_size)\n",
    "        if y > 1:\n",
    "            y_size = expanded.shape[0] * y\n",
    "            expanded = np.repeat(expanded, y, axis=0).reshape(y_size, expanded.shape[1])\n",
    "        target = mipmaps[index - 1] if index > 0 else image.copy()\n",
    "\n",
    "        nans = np.where(np.isnan(target))\n",
    "        target[nans] = expanded[nans]\n",
    "    return target"
   ]
  },
  {
   "cell_type": "code",
   "execution_count": null,
   "metadata": {
    "collapsed": false
   },
   "outputs": [],
   "source": [
    "cleaned = mipmap_imputer(depths)\n",
    "plt.imshow(cleaned)"
   ]
  },
  {
   "cell_type": "code",
   "execution_count": null,
   "metadata": {
    "collapsed": false
   },
   "outputs": [],
   "source": [
    "timeit.timeit(\n",
    "    \"cleaned = mipmap_imputer(depths)\",\n",
    "    number=10,\n",
    "    setup=\"from __main__ import mipmap_imputer,depths\"\n",
    ")"
   ]
  },
  {
   "cell_type": "code",
   "execution_count": null,
   "metadata": {
    "collapsed": false
   },
   "outputs": [],
   "source": [
    "_, poor_depth = split(ndimage.imread(\"../testing/IMG_3410.PNG\"))\n",
    "poor_depths, _ = decode_depth(poor_depth)\n",
    "plt.imshow(poor_depths)"
   ]
  },
  {
   "cell_type": "code",
   "execution_count": null,
   "metadata": {
    "collapsed": false
   },
   "outputs": [],
   "source": [
    "plt.imshow(mipmap_imputer(poor_depths, strategy=np.max))"
   ]
  },
  {
   "cell_type": "markdown",
   "metadata": {},
   "source": [
    "# Add Smoothing"
   ]
  },
  {
   "cell_type": "code",
   "execution_count": null,
   "metadata": {
    "collapsed": false
   },
   "outputs": [],
   "source": [
    "smoothed = improc.mipmap_imputer(depths, smooth=True)\n",
    "plt.imshow(smoothed)"
   ]
  },
  {
   "cell_type": "code",
   "execution_count": null,
   "metadata": {
    "collapsed": false
   },
   "outputs": [],
   "source": [
    "poor_smoothed = improc.mipmap_imputer(poor_depths, smooth=True)\n",
    "plt.imshow(poor_smoothed)"
   ]
  },
  {
   "cell_type": "markdown",
   "metadata": {
    "collapsed": true
   },
   "source": [
    "# Make Noise"
   ]
  },
  {
   "cell_type": "code",
   "execution_count": null,
   "metadata": {
    "collapsed": false
   },
   "outputs": [],
   "source": [
    "noise = noise = improc.PerlinNoise(10, 10, np.random.RandomState(20202))\n",
    "improc.make_noise(100, 100, 10, 10, )\n",
    "plt.imshow(noise.fill(100,100,0,10,0,10), cmap='Greys_r')"
   ]
  },
  {
   "cell_type": "code",
   "execution_count": null,
   "metadata": {
    "collapsed": false
   },
   "outputs": [],
   "source": [
    "plt.imshow(noise.fill(200,200,0,20,0,20), cmap='Greys_r')"
   ]
  },
  {
   "cell_type": "code",
   "execution_count": null,
   "metadata": {
    "collapsed": false
   },
   "outputs": [],
   "source": [
    "noise = improc.make_noise(100, 100, 5, 5, np.random.RandomState(12345))\n",
    "plt.imshow(noise, cmap='Greys_r')"
   ]
  },
  {
   "cell_type": "code",
   "execution_count": null,
   "metadata": {
    "collapsed": false
   },
   "outputs": [],
   "source": [
    "noise += improc.make_noise(100, 100, 20, 15, np.random.RandomState(54321))\n",
    "plt.imshow(noise, cmap='Greys_r')"
   ]
  },
  {
   "cell_type": "code",
   "execution_count": null,
   "metadata": {
    "collapsed": false
   },
   "outputs": [],
   "source": [
    "noise += 0.5 * improc.make_noise(100, 100, 50, 50, np.random.RandomState(12321))\n",
    "plt.imshow(noise, cmap='Greys_r')"
   ]
  },
  {
   "cell_type": "code",
   "execution_count": null,
   "metadata": {
    "collapsed": true
   },
   "outputs": [],
   "source": []
  }
 ],
 "metadata": {
  "kernelspec": {
   "display_name": "Python 2",
   "language": "python",
   "name": "python2"
  },
  "language_info": {
   "codemirror_mode": {
    "name": "ipython",
    "version": 2
   },
   "file_extension": ".py",
   "mimetype": "text/x-python",
   "name": "python",
   "nbconvert_exporter": "python",
   "pygments_lexer": "ipython2",
   "version": "2.7.11"
  }
 },
 "nbformat": 4,
 "nbformat_minor": 0
}
