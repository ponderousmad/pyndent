{
 "cells": [
  {
   "cell_type": "markdown",
   "metadata": {},
   "source": [
    "# Download Data for Pyndent/Classydepth\n",
    "\n",
    "The code below does download the whole data set, but it's a slow and error prone way to do it.\n",
    "It's easier to just download each of this zip files below and uncompress them into /captures\n",
    "\n",
    "  0000-1000.zip: https://drive.google.com/uc?export=download&id=0B8WcbXogHvegZFFwNU5KWkcwbDQ\n",
    "  \n",
    "  1000-2000.zip: https://drive.google.com/uc?export=download&id=0B8WcbXogHvegQU9hal9jUEhDeUk\n",
    "  \n",
    "  2000-3000.zip: https://drive.google.com/uc?export=download&id=0B8WcbXogHvegaVhxNTNoWlN2eDQ\n",
    "  \n",
    "  3000-4000.zip: https://drive.google.com/uc?export=download&id=0B8WcbXogHvegeUFpenQ5V2M3cEU\n",
    "  \n",
    "  4000-5000.zip: https://drive.google.com/uc?export=download&id=0B8WcbXogHvegNnoxZTJnUUs5bTQ\n",
    "  \n",
    "  5000-6000.zip: https://drive.google.com/uc?export=download&id=0B8WcbXogHvegMTV4MjRMVXJrcHc\n",
    "  \n",
    "  6000-7000.zip: https://drive.google.com/uc?export=download&id=0B8WcbXogHvegeXJrb3J4SHJycnc\n",
    "  \n",
    "  7000-8000.zip: https://drive.google.com/uc?export=download&id=0B8WcbXogHvegdl8zNklXeU9oTTQ\n",
    "  \n",
    "  8000-9000.zip: https://drive.google.com/uc?export=download&id=0B8WcbXogHvegdlNHZHdCTjV2aUE\n",
    "  \n",
    "  9000-9400.zip: https://drive.google.com/uc?export=download&id=0B8WcbXogHvegLXVNUUkzQm5GS0k\n",
    "  \n",
    "  noattitude.zip: https://drive.google.com/uc?export=download&id=0B8WcbXogHvegSlN3dWFfUDQta2c\n",
    "  \n",
    "  objects.zip: https://drive.google.com/uc?export=download&id=0B8WcbXogHvegcVlrSm8xRUJYSjA"
   ]
  },
  {
   "cell_type": "code",
   "execution_count": 1,
   "metadata": {
    "collapsed": false
   },
   "outputs": [],
   "source": [
    "%matplotlib inline\n",
    "from __future__ import print_function\n",
    "\n",
    "import ipywidgets\n",
    "import os\n",
    "import re\n",
    "import sys\n",
    "import urllib\n",
    "import zipfile\n",
    "\n",
    "from IPython.display import display\n",
    "\n",
    "import outputer\n",
    "import improc"
   ]
  },
  {
   "cell_type": "code",
   "execution_count": null,
   "metadata": {
    "collapsed": false
   },
   "outputs": [],
   "source": [
    "drive_files = []\n",
    "for root, dirs, files in os.walk('internal'):\n",
    "    for name in files:\n",
    "        if name.lower().endswith(\".csv\"):\n",
    "            drive_files.append(os.path.join(root, name))\n",
    "drive_files"
   ]
  },
  {
   "cell_type": "code",
   "execution_count": null,
   "metadata": {
    "collapsed": true
   },
   "outputs": [],
   "source": [
    "def load_file_map(path, mapping=None):\n",
    "    if mapping is None:\n",
    "        mapping = []\n",
    "    with open(path, \"r\") as folder_data:\n",
    "        lines = folder_data.readlines()\n",
    "        for line in lines:\n",
    "            parts = line.split(\",\")\n",
    "            if len(parts) == 3:\n",
    "                mapping.append(parts)\n",
    "    return mapping"
   ]
  },
  {
   "cell_type": "code",
   "execution_count": null,
   "metadata": {
    "collapsed": false
   },
   "outputs": [],
   "source": [
    "all_files = []\n",
    "for drive_data_path in drive_files:\n",
    "    load_file_map(drive_data_path, all_files)\n",
    "print(len(all_files))"
   ]
  },
  {
   "cell_type": "code",
   "execution_count": null,
   "metadata": {
    "collapsed": true
   },
   "outputs": [],
   "source": [
    "data_path = outputer.setup_directory(\"captures\")\n",
    "\n",
    "def download(file_info):\n",
    "    base_url = \"https://drive.google.com/uc?export=download&id=\"\n",
    "    url = base_url + file_info[1]\n",
    "    path = os.path.join(data_path, file_info[0])\n",
    "    size = int(file_info[2])\n",
    "    try:\n",
    "        stats = os.stat(path)\n",
    "        if stats.st_size == size:\n",
    "            return\n",
    "    except (IOError, OSError):\n",
    "        pass\n",
    "    filename, headers = urllib.urlretrieve(url, path)\n",
    "    stats = os.stat(filename)\n",
    "    if stats.st_size != size:\n",
    "        print(\"File\", file_info[0], \"does not have expected size\", file_info[2])"
   ]
  },
  {
   "cell_type": "code",
   "execution_count": null,
   "metadata": {
    "collapsed": false
   },
   "outputs": [],
   "source": [
    "def download_files(files_info):\n",
    "    progress_bar = ipywidgets.FloatProgress(min=0, max=len(files_info), description=\"Downloading:\")\n",
    "    display(progress_bar)\n",
    "    for i, entry in enumerate(files_info):\n",
    "        download(entry)\n",
    "        progress_bar.value = i\n",
    "    progress_bar.value = progress_bar.max\n",
    "    print(\"Download Complete!\")"
   ]
  },
  {
   "cell_type": "markdown",
   "metadata": {},
   "source": [
    "# Download the Whole Dataset\n",
    "\n",
    "## NOTE: This will download ~6 gb!"
   ]
  },
  {
   "cell_type": "code",
   "execution_count": null,
   "metadata": {
    "collapsed": false
   },
   "outputs": [],
   "source": [
    "download_files(all_files)"
   ]
  },
  {
   "cell_type": "markdown",
   "metadata": {
    "collapsed": true
   },
   "source": [
    "# Compute Stats"
   ]
  },
  {
   "cell_type": "code",
   "execution_count": null,
   "metadata": {
    "collapsed": false
   },
   "outputs": [],
   "source": [
    "training, test = improc.enumerate_images(\"captures\")\n",
    "print(\"Training:\", len(training), \"Test:\", len(test))\n",
    "print(training[:2])\n",
    "print(test[:2])"
   ]
  },
  {
   "cell_type": "code",
   "execution_count": null,
   "metadata": {
    "collapsed": false
   },
   "outputs": [],
   "source": [
    "training_mean = improc.compute_mean_depth(training)\n",
    "# Expected result: 1680.2417905486018 (Erroneously calculated as 1688.97 previously)\n",
    "print(training_mean)"
   ]
  },
  {
   "cell_type": "code",
   "execution_count": null,
   "metadata": {
    "collapsed": false
   },
   "outputs": [],
   "source": [
    "training_standard_deviation = improc.compute_std_dev(training, training_mean)\n",
    "# Expected result: 884.750172634\n",
    "print(training_standard_deviation)\n",
    "print(training_standard_deviation / improc.MAX_DEPTH)"
   ]
  },
  {
   "cell_type": "code",
   "execution_count": null,
   "metadata": {
    "collapsed": false
   },
   "outputs": [],
   "source": [
    "test_mean = improc.compute_mean_depth(test)\n",
    "# Expected result: 1676.3290505903665\n",
    "print(test_mean)"
   ]
  },
  {
   "cell_type": "code",
   "execution_count": null,
   "metadata": {
    "collapsed": true
   },
   "outputs": [],
   "source": [
    "test_standard_deviation = improc.compute_std_dev(test, test_mean)\n",
    "# Expected result: 875.721862131\n",
    "print(test_standard_deviation)\n",
    "print(test_standard_deviation / improc.MAX_DEPTH)"
   ]
  },
  {
   "cell_type": "code",
   "execution_count": null,
   "metadata": {
    "collapsed": true
   },
   "outputs": [],
   "source": []
  }
 ],
 "metadata": {
  "kernelspec": {
   "display_name": "Python 2",
   "language": "python",
   "name": "python2"
  },
  "language_info": {
   "codemirror_mode": {
    "name": "ipython",
    "version": 2
   },
   "file_extension": ".py",
   "mimetype": "text/x-python",
   "name": "python",
   "nbconvert_exporter": "python",
   "pygments_lexer": "ipython2",
   "version": "2.7.11"
  }
 },
 "nbformat": 4,
 "nbformat_minor": 0
}
