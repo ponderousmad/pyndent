{
 "cells": [
  {
   "cell_type": "code",
   "execution_count": null,
   "metadata": {
    "collapsed": false
   },
   "outputs": [],
   "source": [
    "%matplotlib inline\n",
    "from __future__ import print_function\n",
    "import gc\n",
    "import math\n",
    "import os\n",
    "import random\n",
    "import sys\n",
    "import traceback\n",
    "import sklearn.metrics\n",
    "import skimage.color\n",
    "import numpy as np\n",
    "import tensorflow as tf\n",
    "import matplotlib.pyplot as plt\n",
    "from IPython.display import Image\n",
    "from scipy import ndimage\n",
    "\n",
    "import improc\n",
    "import convnet\n",
    "import mutate\n",
    "import convevo\n",
    "import darwin"
   ]
  },
  {
   "cell_type": "code",
   "execution_count": null,
   "metadata": {
    "collapsed": false
   },
   "outputs": [],
   "source": [
    "reload (improc)\n",
    "reload (convnet)\n",
    "reload (mutate)\n",
    "reload (convevo)\n",
    "reload (darwin)"
   ]
  },
  {
   "cell_type": "code",
   "execution_count": null,
   "metadata": {
    "collapsed": false
   },
   "outputs": [],
   "source": [
    "# http://stackoverflow.com/questions/29772158/make-ipython-notebook-print-in-real-time\n",
    "oldsysstdout = sys.stdout\n",
    "class flushfile():\n",
    "    def __init__(self, f):\n",
    "        self.f = f\n",
    "    def __getattr__(self,name): \n",
    "        return object.__getattribute__(self.f, name)\n",
    "    def write(self, x):\n",
    "        self.f.write(x)\n",
    "        self.f.flush()\n",
    "    def flush(self):\n",
    "        self.f.flush()\n",
    "sys.stdout = flushfile(sys.stdout)"
   ]
  },
  {
   "cell_type": "markdown",
   "metadata": {},
   "source": [
    "# Enumerate Images\n",
    "Image names are sequential, so add every tenth image to the validation set based on filename."
   ]
  },
  {
   "cell_type": "code",
   "execution_count": null,
   "metadata": {
    "collapsed": false
   },
   "outputs": [],
   "source": [
    "training = []\n",
    "test = []\n",
    "\n",
    "for root, dirs, files in os.walk('captures'):\n",
    "    for name in files:\n",
    "        path = os.path.join(root, name)\n",
    "        low_name = name.lower()\n",
    "        # Find all the image files, split into test and training.\n",
    "        if low_name.endswith(\".png\"):\n",
    "            if low_name.endswith(\"0.png\"):\n",
    "                test.append(path)\n",
    "            else:\n",
    "                training.append(path)\n",
    "\n",
    "print(\"Training:\", len(training), \"Test:\", len(test))\n",
    "print(training[:2])\n",
    "print(test[:2])"
   ]
  },
  {
   "cell_type": "markdown",
   "metadata": {},
   "source": [
    "# Image Processing\n",
    "Each image file contains a color image (top half), and an encoded depth image (bottom half)\n",
    "<img src=\"testing/IMG_2114.PNG\">\n",
    "* Note: The image may also contain the orientation data. If so it is encoded in the first two pixels of the depth image. If the first pixel of the depth image is red, the second has the x, y, z, w quaternion components encoded in the r,g,b,a values.\n",
    "\n",
    "The improc module contains functions for splitting the image, decoding the depth back into floating point millimeters, and for filling in gaps."
   ]
  },
  {
   "cell_type": "code",
   "execution_count": null,
   "metadata": {
    "collapsed": true
   },
   "outputs": [],
   "source": [
    "COLOR_CHANNELS = 3\n",
    "\n",
    "def load_image(image_path):\n",
    "    combined_image = ndimage.imread(image_path).astype(np.float32)\n",
    "    color_image, depth_image = improc.split(combined_image)\n",
    "    color_image = color_image[:, :, 0 : COLOR_CHANNELS] / improc.BYTE_MAX # Discard alpha and normalize\n",
    "    depths, attitude = improc.decode_depth(depth_image)\n",
    "    return (color_image, depths, attitude)"
   ]
  },
  {
   "cell_type": "code",
   "execution_count": null,
   "metadata": {
    "collapsed": false
   },
   "outputs": [],
   "source": [
    "def compute_average_depth():\n",
    "    depth_averages = []\n",
    "\n",
    "    for path in training:\n",
    "        _, depth, _ = load_image(path)\n",
    "        depth_averages.append(np.nanmean(depth))\n",
    "        if len(depth_averages) % 1000 == 0:\n",
    "            print(\"Image\", len(depth_averages))\n",
    "    return np.nanmean(depth_averages)\n",
    "\n",
    "# Precomputed via compute_average_depth()\n",
    "MEAN_DEPTH = np.float32(1688.97)\n",
    "\n",
    "print(MEAN_DEPTH)"
   ]
  },
  {
   "cell_type": "markdown",
   "metadata": {},
   "source": [
    "# Depth labels\n",
    "Want more precision for nearby things, so use progressively expanding buckets for labels, so if smallest bucket has size s and each succesive bucket is larger by a factor F then:\n",
    "\n",
    "improc.MAX_DEPTH == sF<sup>0</sup> + sF<sup>1</sup> + sF<sup>2</sup> + ... + sF<sup>label count - 1</sup>\n",
    "\n",
    "So, plug into sum of geometric series formula:\n",
    "\n",
    "improc.MAX_DEPTH == s * (1 - F<sup>label count</sup>) / (1 - F)\n",
    "\n",
    "Since there are two unknowns we can choose either the factor or the bucket size. A factor of 1.8 resulted in buckets that seemed about right."
   ]
  },
  {
   "cell_type": "code",
   "execution_count": null,
   "metadata": {
    "collapsed": false
   },
   "outputs": [],
   "source": [
    "def size_for_factor(factor, buckets):\n",
    "    return improc.MAX_DEPTH * (1 - factor) / (1 - factor ** buckets)\n",
    "\n",
    "def depth_label_boundaries(factor, buckets):\n",
    "    boundaries = []\n",
    "    size_sum = 0\n",
    "    bucket_size = size_for_factor(factor, buckets)\n",
    "    for i in range(buckets):\n",
    "        size_sum += bucket_size\n",
    "        boundaries.append(size_sum)\n",
    "        bucket_size *= factor\n",
    "    return boundaries\n",
    "\n",
    "DEPTH_LABEL_COUNT = 10\n",
    "DEPTH_BUCKET_SCALE_FACTOR = 1.8\n",
    "DEPTH_BOUNDARIES = depth_label_boundaries(DEPTH_BUCKET_SCALE_FACTOR, DEPTH_LABEL_COUNT)\n",
    "\n",
    "def depth_label(depth, labels=None):\n",
    "    if labels is None:\n",
    "        labels = np.zeros(shape=(DEPTH_LABEL_COUNT), dtype=np.float32)\n",
    "    for i, boundary in enumerate(DEPTH_BOUNDARIES):\n",
    "        if depth < boundary:\n",
    "            labels[i] = 1\n",
    "            break\n",
    "    return labels\n",
    "\n",
    "print(\"Mean depth label:\", depth_label(MEAN_DEPTH))"
   ]
  },
  {
   "cell_type": "code",
   "execution_count": null,
   "metadata": {
    "collapsed": false
   },
   "outputs": [],
   "source": [
    "L_MAX = 100\n",
    "AB_SCALE_MAX = 127\n",
    "\n",
    "def prepare_images(paths, height, width, channels=COLOR_CHANNELS, strategy=np.mean):\n",
    "    inputs = np.empty(shape=(len(paths), height, width, channels), dtype=np.float32)\n",
    "    targets = np.empty(shape=(len(paths), height * width), dtype=np.float32)\n",
    "    scales = None\n",
    "    for i, path in enumerate(paths):\n",
    "        pixels, depths, _ = load_image(path)\n",
    "        image_shape = pixels.shape\n",
    "        h_offset = (image_shape[0] - height) / 2\n",
    "        w_offset = (image_shape[1] - width) / 2\n",
    "        if scales is None:\n",
    "            scales = improc.compute_scales(image_shape[0], image_shape[1])\n",
    "        lab_image = skimage.color.rgb2lab(pixels[h_offset : h_offset + height, w_offset : w_offset + width])\n",
    "        inputs[i] = (lab_image / [L_MAX / 2, AB_SCALE_MAX, AB_SCALE_MAX]) - [1, 0, 0]\n",
    "        depths = improc.mipmap_imputer(depths, strategy, scales) # fill holes\n",
    "        depths = depths[h_offset : h_offset + height, w_offset : w_offset + width]\n",
    "        depths = 2 * (depths - MEAN_DEPTH) / improc.MAX_DEPTH\n",
    "        targets[i] = depths.reshape(height * width)\n",
    "    return (inputs, targets)"
   ]
  },
  {
   "cell_type": "code",
   "execution_count": null,
   "metadata": {
    "collapsed": false
   },
   "outputs": [],
   "source": [
    "example_image, example_depth, example_attitude = load_image(\"testing/IMG_2114.PNG\")\n",
    "plt.imshow(example_image)\n",
    "print(example_image.shape, example_image.dtype)\n",
    "\n",
    "def prepare_dummy(image_path):\n",
    "    return prepared_image"
   ]
  },
  {
   "cell_type": "code",
   "execution_count": null,
   "metadata": {
    "collapsed": false
   },
   "outputs": [],
   "source": [
    "plt.imshow(example_depth)\n",
    "print(example_depth.shape, example_depth.dtype)\n",
    "print(example_attitude)"
   ]
  },
  {
   "cell_type": "code",
   "execution_count": null,
   "metadata": {
    "collapsed": false
   },
   "outputs": [],
   "source": [
    "prepared_labs, prepared_depths = prepare_images([\"testing/IMG_2114.PNG\"], 100, 100)\n",
    "plt.imshow(prepared_labs[0])\n",
    "print(prepared_labs[0].shape, prepared_labs[0].dtype)"
   ]
  },
  {
   "cell_type": "code",
   "execution_count": null,
   "metadata": {
    "collapsed": false
   },
   "outputs": [],
   "source": [
    "plt.imshow(prepared_depths[0].reshape(100,100))\n",
    "print(prepared_depths[0].shape, prepared_depths[0].dtype)\n",
    "print(np.min(prepared_depths[0]), np.max(prepared_depths[0]))"
   ]
  },
  {
   "cell_type": "markdown",
   "metadata": {},
   "source": [
    "# Data Management"
   ]
  },
  {
   "cell_type": "code",
   "execution_count": null,
   "metadata": {
    "collapsed": false
   },
   "outputs": [],
   "source": [
    "image_height = 480\n",
    "image_width = 640\n",
    "\n",
    "data_files = {\n",
    "    \"image_size\": (image_height, image_width, COLOR_CHANNELS),\n",
    "    \"depth_size\": image_height * image_width,\n",
    "    \"train_files\": np.array(training),\n",
    "    \"test_files\": np.array(test)\n",
    "}\n",
    "\n",
    "del training\n",
    "del test"
   ]
  },
  {
   "cell_type": "code",
   "execution_count": null,
   "metadata": {
    "collapsed": true
   },
   "outputs": [],
   "source": [
    "def setup_cross_validation(data, train_count, valid_count, test_count=None, chunk_size=None, seed=None):\n",
    "    cross_data = data.copy()\n",
    "    \n",
    "    if seed:\n",
    "        np.random.seed(seed)\n",
    "        \n",
    "    if chunk_size:\n",
    "        cross_data[\"image_size\"] = chunk_size\n",
    "        cross_data[\"depth_size\"] = chunk_size[0] * chunk_size[1]\n",
    "\n",
    "    paths = cross_data[\"train_files\"][:]\n",
    "    permutation = np.random.permutation(paths.shape[0])\n",
    "    paths = paths[permutation]\n",
    "\n",
    "    cross_data[\"train_files\"] = paths[:train_count]\n",
    "    cross_data[\"valid_files\"] = paths[train_count:train_count + valid_count]\n",
    "    \n",
    "    if test_count is not None:\n",
    "        cross_data[\"test_files\"] = data[\"test_files\"][:test_count]\n",
    "    \n",
    "    return cross_data"
   ]
  },
  {
   "cell_type": "markdown",
   "metadata": {},
   "source": [
    "# Graph Setup"
   ]
  },
  {
   "cell_type": "code",
   "execution_count": null,
   "metadata": {
    "collapsed": true
   },
   "outputs": [],
   "source": [
    "def setup_graph(\n",
    "    batch_size,\n",
    "    image_shape,\n",
    "    target_shape,\n",
    "    layer_stack,\n",
    "    rate_alpha=0.05,\n",
    "    decay_rate=1.0,\n",
    "    decay_steps=1000\n",
    "):\n",
    "    graph = tf.Graph()\n",
    "    with graph.as_default():\n",
    "        input_shape = (batch_size,) + image_shape\n",
    "        output_shape = (batch_size,) + target_shape\n",
    "        train   = tf.placeholder(tf.float32, shape=input_shape)\n",
    "        targets = tf.placeholder(tf.float32, shape=output_shape)\n",
    "        verify  = tf.placeholder(tf.float32, shape=input_shape)\n",
    "\n",
    "        layers = layer_stack.construct(input_shape)\n",
    "        l2_loss = 0\n",
    "        \n",
    "        for layer in layers:\n",
    "            layer.setup_parameters()\n",
    "            l2_loss = layer.update_loss(l2_loss)\n",
    "        \n",
    "        def model(nodes, train):\n",
    "            for layer in layers:\n",
    "                nodes.append(layer.connect(nodes[-1], train))\n",
    "            return nodes[-1]\n",
    "\n",
    "        results = model([train], True)\n",
    "        loss = tf.reduce_mean(tf.squared_difference(results, targets)) + l2_loss\n",
    "        \n",
    "        global_step = tf.Variable(0)\n",
    "        learning_rate = tf.train.exponential_decay(rate_alpha, global_step, decay_steps, decay_rate)\n",
    "        \n",
    "        info = {\n",
    "            \"graph\": graph,\n",
    "            \"batch_size\": batch_size,\n",
    "            \"train\": train,\n",
    "            \"targets\": targets,\n",
    "            \"loss\": loss,\n",
    "            \"optimizer\": tf.train.GradientDescentOptimizer(learning_rate).minimize(loss, global_step=global_step),\n",
    "\n",
    "            # Predictions for training and verification (validation or test)\n",
    "            \"predictions\": results,\n",
    "            \"verify\": verify,\n",
    "            \"verify_predictions\": model([verify], False)\n",
    "        }\n",
    "    return info"
   ]
  },
  {
   "cell_type": "markdown",
   "metadata": {},
   "source": [
    "# Graph Execution"
   ]
  },
  {
   "cell_type": "code",
   "execution_count": null,
   "metadata": {
    "collapsed": true
   },
   "outputs": [],
   "source": [
    "def prediction_error(predictions, targets):\n",
    "    return sklearn.metrics.mean_squared_error(predictions, targets)"
   ]
  },
  {
   "cell_type": "code",
   "execution_count": null,
   "metadata": {
    "collapsed": true
   },
   "outputs": [],
   "source": [
    "def batch_error(session, graph_info, inputs, targets, batch_size):\n",
    "    total_error = 0    \n",
    "    batch_count = len(inputs) / batch_size\n",
    "    for b in xrange(batch_count):\n",
    "        offset = b * batch_size\n",
    "        end = offset + batch_size\n",
    "        batch_data = inputs[offset:end]\n",
    "        predictions = session.run([graph_info[\"verify_predictions\"]], feed_dict={graph_info[\"verify\"]: batch_data})[0]\n",
    "        total_error += prediction_error(predictions, targets[offset:end]) / np.float32(batch_count)\n",
    "    return total_error, predictions[-1], targets[1]"
   ]
  },
  {
   "cell_type": "code",
   "execution_count": null,
   "metadata": {
    "collapsed": true
   },
   "outputs": [],
   "source": [
    "def run_graph(graph_info, data, step_count, report_every=50, verbose=True, compute_test=False, error_maximum=None):\n",
    "    with tf.Session(graph=graph_info[\"graph\"]) as session:\n",
    "        tf.initialize_all_variables().run()\n",
    "        print(\"Initialized\")\n",
    "        batch_size = graph_info[\"batch_size\"]\n",
    "        height, width, channels = data[\"image_size\"]\n",
    "        max_error = 1\n",
    "        valid_error = max_error\n",
    "        valid_data = None\n",
    "        training_files = data[\"train_files\"]\n",
    "        for step in xrange(step_count + 1):\n",
    "            # Pick an offset within the training data, which has been randomized.\n",
    "            offset = (step * batch_size) % (training_files.shape[0] - batch_size)\n",
    "            # Generate a minibatch.\n",
    "            batch_files = training_files[offset:(offset + batch_size)]\n",
    "            batch_inputs, batch_targets = prepare_images(batch_files, height, width, channels)\n",
    "            # Prepare a dictionary telling the session where to feed the minibatch.\n",
    "            # The key of the dictionary is the placeholder node of the graph to be fed,\n",
    "            # and the value is the numpy array to feed to it.\n",
    "            targets = [graph_info[\"optimizer\"], graph_info[\"loss\"], graph_info[\"predictions\"]]\n",
    "            feed_dict = {graph_info[\"train\"] : batch_inputs, graph_info[\"targets\"] : batch_targets}\n",
    "            _, l, predictions = session.run(targets, feed_dict=feed_dict)\n",
    "            if np.isnan(l):\n",
    "                print(\"Error computing loss\")\n",
    "                return 0, None\n",
    "            if (step % report_every == 0):\n",
    "                if verbose:\n",
    "                    print(\"Minibatch loss at step\", step, \":\", l)\n",
    "                if valid_data is None:\n",
    "                    valid_data = prepare_images(data[\"valid_files\"], height, width, channels)\n",
    "                valid_error, _, _ = batch_error(session, graph_info, valid_data[0], valid_data[1], batch_size)\n",
    "                print(\"Validation error: %.3f\" % valid_error)\n",
    "                if error_maximum and step > 0 and valid_error < error_maximum:\n",
    "                    print(\"Early out.\")\n",
    "                    break\n",
    "        results = (predictions[0], batch_targets[0], batch_inputs[0])\n",
    "        if compute_test:\n",
    "            test_inputs, test_targets = prepare_images(data[\"test_files\"], height, width, channels)\n",
    "            test_results = batch_error(session, graph_info, test_inputs, test_targets, batch_size)\n",
    "            print(\"Test error: %.3f\" % test_results[0])\n",
    "            results = results + test_results\n",
    "        return max_error - min(valid_error, max_error), results"
   ]
  },
  {
   "cell_type": "code",
   "execution_count": null,
   "metadata": {
    "collapsed": true
   },
   "outputs": [],
   "source": [
    "def create_stack(convolutions, flatten, hidden_sizes, output_size, init_mean, init_scale):\n",
    "    stack = convevo.LayerStack(flatten=flatten)\n",
    "    default_init = lambda: convevo.Initializer(\"normal\", mean=init_mean, scale=init_scale)\n",
    "\n",
    "    for operation, patch_size, stride, depth, padding, relu in convolutions:\n",
    "        stack.add_layer(convevo.ImageLayer(operation, patch_size, stride, depth, \"SAME\", default_init()), relu=relu)\n",
    "    for hidden_size in hidden_sizes:\n",
    "        stack.add_layer(convevo.HiddenLayer(hidden_size, bias=True, initializer=default_init()), relu=True)\n",
    "    if output_size is not None:\n",
    "        stack.add_layer(convevo.HiddenLayer(output_size, bias=True, initializer=default_init()), relu=False)\n",
    "    \n",
    "    return stack"
   ]
  },
  {
   "cell_type": "code",
   "execution_count": null,
   "metadata": {
    "collapsed": false
   },
   "outputs": [],
   "source": [
    "batch_size = 4\n",
    "sample_height = 480\n",
    "sample_width = 640\n",
    "prototype_cross = setup_cross_validation(data_files, 9800, 200, 1000, (sample_height, sample_width, COLOR_CHANNELS))\n",
    "conv_layers = [\n",
    "    (\"conv\",       5, 1, 10, \"SAME\", False),\n",
    "    (\"conv\",      10, 1, 20, \"SAME\", False),\n",
    "    (\"conv\",      25, 1, 25, \"SAME\", False),\n",
    "    (\"conv_bias\", 25, 1, 25, \"SAME\", False),\n",
    "    (\"conv_bias\", 20, 1, 30, \"SAME\", True),\n",
    "    (\"conv_bias\",  5, 1,  1, \"SAME\", False)\n",
    "]\n",
    "prototype = create_stack(conv_layers, True, [], None, 0.0, 1.0)\n",
    "prototype.reseed(random.Random(24601))\n",
    "prototype_graph = setup_graph(batch_size, prototype_cross[\"image_size\"], (prototype_cross[\"depth_size\"],), prototype)"
   ]
  },
  {
   "cell_type": "code",
   "execution_count": null,
   "metadata": {
    "collapsed": false
   },
   "outputs": [],
   "source": [
    "score, results = run_graph(prototype_graph, prototype_cross, 4000, 500, True)\n",
    "print(score)"
   ]
  },
  {
   "cell_type": "code",
   "execution_count": null,
   "metadata": {
    "collapsed": false
   },
   "outputs": [],
   "source": [
    "plt.imshow(results[0].reshape(sample_height,sample_width))\n",
    "print(np.min(results[0]),np.max(results[0]))"
   ]
  },
  {
   "cell_type": "code",
   "execution_count": null,
   "metadata": {
    "collapsed": false
   },
   "outputs": [],
   "source": [
    "plt.imshow(results[1].reshape(sample_height,sample_width))"
   ]
  },
  {
   "cell_type": "code",
   "execution_count": null,
   "metadata": {
    "collapsed": false
   },
   "outputs": [],
   "source": [
    "plt.imshow(results[2])"
   ]
  },
  {
   "cell_type": "code",
   "execution_count": null,
   "metadata": {
    "collapsed": false
   },
   "outputs": [],
   "source": [
    "test_width = 400\n",
    "test_height = 400\n",
    "images, depth = prepare_images(prototype_cross[\"train_files\"][:1], test_width, test_height, COLOR_CHANNELS)"
   ]
  },
  {
   "cell_type": "code",
   "execution_count": null,
   "metadata": {
    "collapsed": false
   },
   "outputs": [],
   "source": [
    "plt.imshow(images[0])\n",
    "print(np.min(images[0][:,:,0]),np.max(images[0][:,:,0]))\n",
    "print(np.min(images[0][:,:,1]),np.max(images[0][:,:,1]))\n",
    "print(np.min(images[0][:,:,2]),np.max(images[0][:,:,2]))"
   ]
  },
  {
   "cell_type": "code",
   "execution_count": null,
   "metadata": {
    "collapsed": false
   },
   "outputs": [],
   "source": [
    "plt.imshow(depth[0].reshape(test_width, test_height))\n",
    "print(np.min(depth[0]),np.max(images[0]))"
   ]
  },
  {
   "cell_type": "code",
   "execution_count": null,
   "metadata": {
    "collapsed": false
   },
   "outputs": [],
   "source": [
    "print(images.shape)\n",
    "print(depth.shape)\n",
    "prediction_error(images[:,:,:,0].reshape(1, test_width * test_height), depth)"
   ]
  },
  {
   "cell_type": "code",
   "execution_count": null,
   "metadata": {
    "collapsed": false
   },
   "outputs": [],
   "source": [
    "prediction_error(depth, np.zeros(shape=(1, test_width * test_height)))"
   ]
  },
  {
   "cell_type": "code",
   "execution_count": null,
   "metadata": {
    "collapsed": true
   },
   "outputs": [],
   "source": []
  }
 ],
 "metadata": {
  "kernelspec": {
   "display_name": "Python 2",
   "language": "python",
   "name": "python2"
  },
  "language_info": {
   "codemirror_mode": {
    "name": "ipython",
    "version": 2
   },
   "file_extension": ".py",
   "mimetype": "text/x-python",
   "name": "python",
   "nbconvert_exporter": "python",
   "pygments_lexer": "ipython2",
   "version": "2.7.11"
  }
 },
 "nbformat": 4,
 "nbformat_minor": 0
}
