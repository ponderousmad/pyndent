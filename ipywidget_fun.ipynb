{
 "cells": [
  {
   "cell_type": "code",
   "execution_count": null,
   "metadata": {
    "collapsed": true
   },
   "outputs": [],
   "source": [
    "%matplotlib inline\n",
    "import ipywidgets\n",
    "import sys\n",
    "import time\n",
    "from __future__ import print_function\n",
    "from IPython.display import display"
   ]
  },
  {
   "cell_type": "code",
   "execution_count": null,
   "metadata": {
    "collapsed": false
   },
   "outputs": [],
   "source": [
    "# http://stackoverflow.com/questions/29772158/make-ipython-notebook-print-in-real-time\n",
    "oldsysstdout = sys.stdout\n",
    "class flushfile():\n",
    "    def __init__(self, f):\n",
    "        self.f = f\n",
    "    def __getattr__(self,name): \n",
    "        return object.__getattribute__(self.f, name)\n",
    "    def write(self, x):\n",
    "        self.f.write(x)\n",
    "        self.f.flush()\n",
    "    def flush(self):\n",
    "        self.f.flush()\n",
    "sys.stdout = flushfile(sys.stdout)"
   ]
  },
  {
   "cell_type": "code",
   "execution_count": null,
   "metadata": {
    "collapsed": false
   },
   "outputs": [],
   "source": [
    "def setupLabel(title):\n",
    "    return ipywidgets.FloatText(value=0, description=title, disabled=True)\n",
    "currentDisplay = [setupLabel(title) for title in [\"Loss\", \"Accuracy\", \"Error\"]]\n",
    "averageDisplay = [setupLabel(\" \") for _ in currentDisplay]\n",
    "display(ipywidgets.HBox([\n",
    "    ipywidgets.Box([ipywidgets.HTML(\"<div style=\"\"margin-left:90px\"\">Current</div>\")] + currentDisplay),\n",
    "    ipywidgets.Box([ipywidgets.HTML(\"<div style=\"\"margin-left:90px\"\">Running Average</div>\")] + averageDisplay)\n",
    "]))"
   ]
  },
  {
   "cell_type": "code",
   "execution_count": null,
   "metadata": {
    "collapsed": true
   },
   "outputs": [],
   "source": [
    "results = []\n",
    "def recordScore(score):\n",
    "    results.append(score)\n",
    "    for display, value in zip(currentDisplay, score):\n",
    "        display.value = value\n",
    "\n",
    "    resultCount = min(len(results), 100)\n",
    "    averages = [sum(x)/resultCount for x in zip(*results[-resultCount:])]\n",
    "    for display, value in zip(averageDisplay, averages):\n",
    "        display.value = value"
   ]
  },
  {
   "cell_type": "code",
   "execution_count": null,
   "metadata": {
    "collapsed": false
   },
   "outputs": [],
   "source": [
    "for i in range(100):\n",
    "    f = float(i)\n",
    "    recordScore((f, 2*f, 4*f))\n",
    "    time.sleep(0.1)"
   ]
  },
  {
   "cell_type": "code",
   "execution_count": null,
   "metadata": {
    "collapsed": true
   },
   "outputs": [],
   "source": []
  }
 ],
 "metadata": {
  "kernelspec": {
   "display_name": "Python 2",
   "language": "python",
   "name": "python2"
  },
  "language_info": {
   "codemirror_mode": {
    "name": "ipython",
    "version": 2
   },
   "file_extension": ".py",
   "mimetype": "text/x-python",
   "name": "python",
   "nbconvert_exporter": "python",
   "pygments_lexer": "ipython2",
   "version": "2.7.11"
  }
 },
 "nbformat": 4,
 "nbformat_minor": 0
}
