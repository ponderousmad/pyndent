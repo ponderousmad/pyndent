{
 "cells": [
  {
   "cell_type": "markdown",
   "metadata": {
    "colab_type": "text",
    "id": "D7tqLMoKF6uq"
   },
   "source": [
    "Learning Snap\n",
    "=============\n",
    "\n",
    "Train an LSTM model to detect snapping fingers in the Myo armband data."
   ]
  },
  {
   "cell_type": "code",
   "execution_count": null,
   "metadata": {
    "cellView": "both",
    "colab": {
     "autoexec": {
      "startup": false,
      "wait_interval": 0
     }
    },
    "colab_type": "code",
    "collapsed": false,
    "id": "MvEblsgEXxrd"
   },
   "outputs": [],
   "source": [
    "from __future__ import print_function\n",
    "import os\n",
    "import sys\n",
    "import numpy as np\n",
    "import random\n",
    "import string\n",
    "import tensorflow as tf\n",
    "\n",
    "import outputer"
   ]
  },
  {
   "cell_type": "markdown",
   "metadata": {
    "colab_type": "text",
    "id": "ga2CYACE-ghb"
   },
   "source": [
    "Load the data"
   ]
  },
  {
   "cell_type": "code",
   "execution_count": null,
   "metadata": {
    "collapsed": false
   },
   "outputs": [],
   "source": [
    "data_path = \"../MyoSnap/testing\"\n",
    "data_files = [\"trial1.csv\", \"trial2.csv\"]\n",
    "\n",
    "data_sets = []\n",
    "\n",
    "snap_threshold = 0.001\n",
    "snap_count = 0\n",
    "\n",
    "for file_name in data_files:\n",
    "    with open(os.path.join(data_path, file_name), 'r') as f:\n",
    "        skip_count = 20 # Give signals time to stabalize\n",
    "        start_time = None\n",
    "        emg_data = []\n",
    "        snap_times = []\n",
    "        was_quiet = True\n",
    "        for line in f:\n",
    "            if skip_count > 0:\n",
    "                skip_count -= 1\n",
    "            else:\n",
    "                parts = line.strip().split(\",\")\n",
    "                if parts[0] == \"E\":\n",
    "                    emg_data.append((parts[1], parts[2:]))\n",
    "                elif parts[0] == \"A\":\n",
    "                    energy = float(parts[2])\n",
    "                    if was_quiet and energy > snap_threshold:\n",
    "                        snap_times.append(parts[1])\n",
    "                        snap_count += 1\n",
    "                    was_quiet = energy < snap_threshold\n",
    "        data_sets.append((emg_data, snap_times))\n",
    "\n",
    "print(\"Snaps found\", snap_count)"
   ]
  }
 ],
 "metadata": {
  "colab": {
   "default_view": {},
   "name": "6_lstm.ipynb",
   "provenance": [],
   "version": "0.3.2",
   "views": {}
  },
  "kernelspec": {
   "display_name": "Python [Root]",
   "language": "python",
   "name": "Python [Root]"
  },
  "language_info": {
   "codemirror_mode": {
    "name": "ipython",
    "version": 3
   },
   "file_extension": ".py",
   "mimetype": "text/x-python",
   "name": "python",
   "nbconvert_exporter": "python",
   "pygments_lexer": "ipython3",
   "version": "3.5.2"
  }
 },
 "nbformat": 4,
 "nbformat_minor": 0
}
